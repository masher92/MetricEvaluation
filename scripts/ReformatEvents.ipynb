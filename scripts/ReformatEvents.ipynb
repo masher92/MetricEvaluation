{
 "cells": [
  {
   "cell_type": "code",
   "execution_count": 4,
   "id": "0ca44d79",
   "metadata": {},
   "outputs": [],
   "source": [
    "import pandas as pd\n",
    "import os"
   ]
  },
  {
   "cell_type": "code",
   "execution_count": 31,
   "id": "277b2f6b",
   "metadata": {},
   "outputs": [
    {
     "name": "stderr",
     "output_type": "stream",
     "text": [
      "/nfs/a321/gy17m2a/anaconda_install/anaconda3/envs/ukcp18/lib/python3.7/site-packages/numpy/lib/arraysetops.py:583: FutureWarning: elementwise comparison failed; returning scalar instead, but in the future will perform elementwise comparison\n",
      "  mask |= (ar1 == a)\n"
     ]
    },
    {
     "name": "stdout",
     "output_type": "stream",
     "text": [
      "  Gauge_num              timeobs  Precip\n",
      "0     53202  2012-03-20 03:51:00     0.0\n",
      "1     53202  2012-03-20 03:52:00     0.0\n",
      "2     53202  2012-03-20 03:53:00     0.0\n",
      "3     53202  2012-03-20 03:54:00     0.0\n",
      "4     53202  2012-03-20 03:55:00     0.0\n"
     ]
    },
    {
     "name": "stderr",
     "output_type": "stream",
     "text": [
      "/nfs/a321/gy17m2a/anaconda_install/anaconda3/envs/ukcp18/lib/python3.7/site-packages/numpy/lib/arraysetops.py:583: FutureWarning: elementwise comparison failed; returning scalar instead, but in the future will perform elementwise comparison\n",
      "  mask |= (ar1 == a)\n"
     ]
    },
    {
     "name": "stdout",
     "output_type": "stream",
     "text": [
      "  Gauge_num              timeobs  Precip\n",
      "0     50152  2012-03-19 23:21:00     0.0\n",
      "1     50152  2012-03-19 23:22:00     0.0\n",
      "2     50152  2012-03-19 23:23:00     0.1\n",
      "3     50152  2012-03-19 23:24:00     0.0\n",
      "4     50152  2012-03-19 23:25:00     0.0\n"
     ]
    },
    {
     "name": "stderr",
     "output_type": "stream",
     "text": [
      "/nfs/a321/gy17m2a/anaconda_install/anaconda3/envs/ukcp18/lib/python3.7/site-packages/numpy/lib/arraysetops.py:583: FutureWarning: elementwise comparison failed; returning scalar instead, but in the future will perform elementwise comparison\n",
      "  mask |= (ar1 == a)\n"
     ]
    },
    {
     "name": "stdout",
     "output_type": "stream",
     "text": [
      "  Gauge_num              timeobs  Precip\n",
      "0     59942  2012-03-19 09:11:00     0.0\n",
      "1     59942  2012-03-19 09:12:00     0.0\n",
      "2     59942  2012-03-19 09:13:00     0.0\n",
      "3     59942  2012-03-19 09:14:00     0.0\n",
      "4     59942  2012-03-19 09:15:00     0.0\n"
     ]
    }
   ],
   "source": [
    "for file in os.listdir(\"/nfs/a319/gy17m2a/PhD/datadir/DanishRainData\"):\n",
    "    precip = pd.read_csv(f\"/nfs/a319/gy17m2a/PhD/datadir/DanishRainData/{file}\", encoding=\"ISO-8859-1\",index_col=1)\n",
    "    precip.insert(0, \"Gauge_num\", file[:5])\n",
    "    precip['Precip']= precip.index\n",
    "    precip.reset_index(inplace=True, drop=True)\n",
    "    print(precip.head())\n",
    "    precip.to_csv(f\"/nfs/a319/gy17m2a/PhD/datadir/DanishRainData/{file}_edited\")"
   ]
  }
 ],
 "metadata": {
  "kernelspec": {
   "display_name": "Python 3 (ipykernel)",
   "language": "python",
   "name": "python3"
  },
  "language_info": {
   "codemirror_mode": {
    "name": "ipython",
    "version": 3
   },
   "file_extension": ".py",
   "mimetype": "text/x-python",
   "name": "python",
   "nbconvert_exporter": "python",
   "pygments_lexer": "ipython3",
   "version": "3.7.13"
  }
 },
 "nbformat": 4,
 "nbformat_minor": 5
}
