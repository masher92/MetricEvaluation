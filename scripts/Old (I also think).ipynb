{
 "cells": [
  {
   "cell_type": "code",
   "execution_count": 29,
   "id": "fe86d705",
   "metadata": {},
   "outputs": [],
   "source": [
    "import numpy as np\n",
    "\n",
    "def calc_dX_with_interpolation(dimensionless_event, percentile):\n",
    "\n",
    "    time_percentage = (np.arange(0, len(dimensionless_event) + 1) / len(dimensionless_event)) * 100\n",
    "\n",
    "    # Find the indices where the cumulative rainfall crosses the percentile_value\n",
    "    indices_below = np.where(dimensionless_event < percentile)[0]\n",
    "    indices_above = np.where(dimensionless_event >= percentile)[0]\n",
    "\n",
    "    # Ensure there are indices both below and above the percentile value\n",
    "    if len(indices_below) > 0 and len(indices_above) > 0:\n",
    "        index_below = indices_below[-1]  # Last index below the percentile value\n",
    "        index_above = indices_above[0]    # First index above the percentile value\n",
    "\n",
    "        # Perform linear interpolation to find the exact intersection point\n",
    "        x_below = time_percentage[index_below]\n",
    "        y_below = dimensionless_event[index_below]\n",
    "\n",
    "        x_above = time_percentage[index_above]\n",
    "        y_above = dimensionless_event[index_above]\n",
    "\n",
    "        # Calculate the slope\n",
    "        slope = (y_above - y_below) / (x_above - x_below)\n",
    "        # Use the formula to find the exact x value where the y value equals percentile_value\n",
    "        time_for_percentile = x_below + (percentile - y_below) / slope\n",
    "        \n",
    "        if time_for_percentile < 0.4:\n",
    "            return 1\n",
    "        elif time_for_percentile >= 0.4 and time_for_percentile <=0.6:\n",
    "            return 2\n",
    "        elif time_for_percentile >0.6:\n",
    "            return 3        \n",
    "\n"
   ]
  },
  {
   "cell_type": "code",
   "execution_count": 19,
   "id": "0d0fc8c2",
   "metadata": {},
   "outputs": [
    {
     "name": "stderr",
     "output_type": "stream",
     "text": [
      "100%|████████████████████████████████████████████████████████████████████████████████████████████████████████████████████████| 25604/25604 [00:07<00:00, 3461.68it/s]\n"
     ]
    }
   ],
   "source": [
    "import pandas as pd\n",
    "import numpy as np\n",
    "import matplotlib.pyplot as plt\n",
    "from tqdm import tqdm\n",
    "from scipy.interpolate import interp1d\n",
    "import seaborn as sns\n",
    "\n",
    "from ClassFunctions import precip_time_series, rainfall_analysis\n",
    "\n",
    "# Path to data file\n",
    "raw_data_file = \"../Raw_data/Sample1.csv\"\n",
    "\n",
    "# Create an object with the rainfall time series \n",
    "ts = precip_time_series(raw_data_file)\n",
    "\n",
    "# Pad and resample the timeseries so it is at 5 minute resolution, and there are no missing times\n",
    "ts.pad_and_resample('5min')\n",
    "\n",
    "# Create on the object a set of filtered events\n",
    "ts.get_events()\n",
    "\n",
    "# Create on the object a set of dimensionless curves\n",
    "ts.create_dimensionless_events()\n",
    "\n",
    "# Create on the object a set of dimensionless curves\n",
    "ts.create_interpolated_events()"
   ]
  },
  {
   "cell_type": "code",
   "execution_count": 30,
   "id": "12e8e696",
   "metadata": {},
   "outputs": [
    {
     "data": {
      "text/plain": [
       "3"
      ]
     },
     "execution_count": 30,
     "metadata": {},
     "output_type": "execute_result"
    }
   ],
   "source": [
    "## Get examples for one event\n",
    "event_idx  = 1\n",
    "event = ts.return_specific_event(event_idx)\n",
    "dimensionless_cumulative_event =  ts.return_specific_dimensionless_event(event_idx)\n",
    "interpolated_dimensionless_cumulative_event =  ts.return_specific_interpolated_event(event_idx)\n",
    "calc_dX_with_interpolation(dimensionless_cumulative_event, 0.5)"
   ]
  },
  {
   "cell_type": "code",
   "execution_count": 23,
   "id": "55dd5818",
   "metadata": {},
   "outputs": [
    {
     "data": {
      "text/plain": [
       "68.16993464052291"
      ]
     },
     "execution_count": 23,
     "metadata": {},
     "output_type": "execute_result"
    }
   ],
   "source": [
    "dimensionless_event = dimensionless_cumulative_event\n",
    "time_percentage = (np.arange(0, len(dimensionless_event) + 1) / len(dimensionless_event)) * 100\n",
    "\n",
    "# Find the indices where the cumulative rainfall crosses the percentile_value\n",
    "indices_below = np.where(dimensionless_event < percentile)[0]\n",
    "indices_above = np.where(dimensionless_event >= percentile)[0]\n",
    "\n",
    "# Ensure there are indices both below and above the percentile value\n",
    "if len(indices_below) > 0 and len(indices_above) > 0:\n",
    "    index_below = indices_below[-1]  # Last index below the percentile value\n",
    "    index_above = indices_above[0]    # First index above the percentile value\n",
    "\n",
    "    # Perform linear interpolation to find the exact intersection point\n",
    "    x_below = time_percentage[index_below]\n",
    "    y_below = dimensionless_event[index_below]\n",
    "\n",
    "    x_above = time_percentage[index_above]\n",
    "    y_above = dimensionless_event[index_above]\n",
    "\n",
    "    # Calculate the slope\n",
    "    slope = (y_above - y_below) / (x_above - x_below)\n",
    "    # Use the formula to find the exact x value where the y value equals percentile_value\n",
    "    time_for_percentile = x_below + (percentile - y_below) / slope\n",
    "    \n"
   ]
  },
  {
   "cell_type": "code",
   "execution_count": 47,
   "id": "df622fda",
   "metadata": {},
   "outputs": [
    {
     "name": "stdout",
     "output_type": "stream",
     "text": [
      "Center of Mass (time index): 173.37073170731713\n"
     ]
    }
   ],
   "source": [
    "import numpy as np\n",
    "\n",
    "# Assuming `event['Nedbør (mm)']` is a Pandas Series\n",
    "rainfall = event['Nedbør (mm)'].values\n",
    "time_indices = np.arange(len(rainfall))  # Time steps (0, 1, 2, ...)\n",
    "\n",
    "# Compute Center of Mass\n",
    "if np.sum(rainfall) == 0:\n",
    "    com = None  # If there's no rainfall, COM is undefined\n",
    "else:\n",
    "    com = np.sum(time_indices * rainfall) / np.sum(rainfall)\n",
    "\n",
    "print(f\"Center of Mass (time index): {com}\")\n"
   ]
  },
  {
   "cell_type": "code",
   "execution_count": 49,
   "id": "913d556f",
   "metadata": {},
   "outputs": [
    {
     "data": {
      "image/png": "[encoded data removed]",
      "text/plain": [
       "<Figure size 720x360 with 1 Axes>"
      ]
     },
     "metadata": {
      "needs_background": "light"
     },
     "output_type": "display_data"
    }
   ],
   "source": [
    "import matplotlib.pyplot as plt\n",
    "\n",
    "plt.figure(figsize=(10, 5))\n",
    "plt.bar(time_indices, rainfall, color='gray', alpha=0.6, label=\"Rainfall\")\n",
    "if com is not None:\n",
    "    plt.axvline(com, color='red', linestyle=\"--\", label=f\"Center of Mass ({com:.2f})\")\n",
    "plt.xlabel(\"Time Step\")\n",
    "plt.ylabel(\"Rainfall (mm)\")\n",
    "plt.title(\"Rainfall Event with Center of Mass\")\n",
    "plt.legend()\n",
    "plt.show()\n"
   ]
  },
  {
   "cell_type": "code",
   "execution_count": 33,
   "id": "012d28ef",
   "metadata": {},
   "outputs": [
    {
     "data": {
      "text/plain": [
       "array([0.        , 0.00487805, 0.00487805, 0.00487805, 0.05853659,\n",
       "       0.13170732, 0.18243902, 0.56682927, 0.8195122 , 0.88585366,\n",
       "       1.        ])"
      ]
     },
     "execution_count": 33,
     "metadata": {},
     "output_type": "execute_result"
    }
   ],
   "source": [
    "def compute_rcg_idx(series):\n",
    "\n",
    "        # Culmitative sum\n",
    "        culmitative_sum = np.cumsum(series)\n",
    "\n",
    "        # Normalize\n",
    "        culmitative_sum /= culmitative_sum[-1]\n",
    "\n",
    "        #first idx over 0.5\n",
    "        idx = np.argmax(culmitative_sum>0.5)\n",
    "\n",
    "        return idx\n",
    "\n",
    "def compute_rcg(series):\n",
    "\n",
    "    time_delta = self.ts.data.index[1]-self.ts.data.index[0]\n",
    "    time_delta_minuts = time_delta.seconds/60\n",
    "\n",
    "    # first index over center of mass\n",
    "    rcg_indeces = np.array([self.compute_rcg_idx(self.ts.data.loc[event[0]:event[1]].values) for event in self.ts.events])\n",
    "\n",
    "    # time of center\n",
    "    toc = np.array([self.ts.data.loc[event[0]:event[1]].index[rcg_indeces[i]] for i,event in enumerate(self.ts.events)])\n",
    "\n",
    "    # duration until center\n",
    "    tcg = np.array([time_delta_minuts + (toc[i] - event[0]).total_seconds()/60 for i,event in enumerate(self.ts.events)]).reshape(self.metrics[\"duration\"].shape)\n",
    "\n",
    "    # rcg\n",
    "    rcg = tcg/self.metrics[\"duration\"]\n",
    "\n",
    "    return rcg\n",
    "\n",
    "\n"
   ]
  }
 ],
 "metadata": {
  "kernelspec": {
   "display_name": "Python 3 (ipykernel)",
   "language": "python",
   "name": "python3"
  },
  "language_info": {
   "codemirror_mode": {
    "name": "ipython",
    "version": 3
   },
   "file_extension": ".py",
   "mimetype": "text/x-python",
   "name": "python",
   "nbconvert_exporter": "python",
   "pygments_lexer": "ipython3",
   "version": "3.7.13"
  }
 },
 "nbformat": 4,
 "nbformat_minor": 5
}
