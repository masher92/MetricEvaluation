{
 "cells": [
  {
   "cell_type": "code",
   "execution_count": 1,
   "id": "ff30609b",
   "metadata": {},
   "outputs": [],
   "source": [
    "import pandas as pd\n",
    "import numpy as np\n",
    "import matplotlib.pyplot as plt\n",
    "from tqdm import tqdm\n",
    "from scipy.interpolate import interp1d\n",
    "import seaborn as sns\n",
    "\n",
    "from ClassFunctions import precip_time_series, rainfall_analysis"
   ]
  },
  {
   "cell_type": "markdown",
   "id": "d98f1e8c",
   "metadata": {},
   "source": [
    "## Create object containing rainfall events for one gauge"
   ]
  },
  {
   "cell_type": "code",
   "execution_count": 2,
   "id": "e5092e2d",
   "metadata": {},
   "outputs": [
    {
     "name": "stderr",
     "output_type": "stream",
     "text": [
      "100%|████████████████████████████████████████████████████████████████████████████████████████████████████████████████████████| 25604/25604 [00:07<00:00, 3530.14it/s]\n"
     ]
    }
   ],
   "source": [
    "# Path to data file\n",
    "raw_data_file = \"../Raw_data/Sample1.csv\"\n",
    "\n",
    "# Create an object with the rainfall time series \n",
    "ts = precip_time_series(raw_data_file)\n",
    "\n",
    "# Pad and resample the timeseries so it is at 5 minute resolution, and there are no missing times\n",
    "ts.pad_and_resample('5min')\n",
    "\n",
    "# Create on the object a set of filtered events\n",
    "ts.get_events()\n",
    "\n",
    "# Create on the object a set of dimensionless curves\n",
    "ts.create_dimensionless_events()\n",
    "\n",
    "# Create on the object a set of dimensionless curves\n",
    "ts.create_interpolated_events()"
   ]
  },
  {
   "cell_type": "code",
   "execution_count": 3,
   "id": "17e07ef9",
   "metadata": {},
   "outputs": [],
   "source": [
    "## Get examples for one event\n",
    "event_idx  = 1\n",
    "event = ts.return_specific_event(event_idx)\n",
    "dimensionless_cumulative_event =  ts.return_specific_dimensionless_event(event_idx)\n",
    "interpolated_dimensionless_cumulative_event =  ts.return_specific_interpolated_event(event_idx)\n",
    "\n",
    "# Can do something similar with\n",
    "# ts.events[event_idx] # This returns the start and end timestamp\n",
    "# ts.dimensionless_events[event_idx]\n",
    "# ts.interpolated_events[event_idx]"
   ]
  },
  {
   "cell_type": "markdown",
   "id": "c6bc8a0e",
   "metadata": {},
   "source": [
    "## Compute metrics"
   ]
  },
  {
   "cell_type": "code",
   "execution_count": 4,
   "id": "725427df",
   "metadata": {},
   "outputs": [],
   "source": [
    "analysis = rainfall_analysis(ts)\n",
    "analysis.get_metrics()"
   ]
  },
  {
   "cell_type": "markdown",
   "id": "77a7cf58",
   "metadata": {},
   "source": [
    "### See all the metrics"
   ]
  },
  {
   "cell_type": "code",
   "execution_count": 6,
   "id": "5c6de8d1",
   "metadata": {},
   "outputs": [],
   "source": [
    "# # Example usage\n",
    "# rainfall_data = [10, 20, 50, 20, 15]  # example rainfall amounts\n",
    "# result = nrmse_peak(rainfall_data)\n",
    "# print('Normalized RMSE:', result)\n",
    "# print('done')"
   ]
  },
  {
   "cell_type": "markdown",
   "id": "90ec83a9",
   "metadata": {},
   "source": [
    "### See all the values for one metric"
   ]
  },
  {
   "cell_type": "code",
   "execution_count": 9,
   "id": "a6b7503f",
   "metadata": {},
   "outputs": [
    {
     "data": {
      "text/plain": [
       "array([0.06, 0.02, 0.08, 0.07, 0.11, 0.15, 0.05, 0.27, 0.04, 0.06, 0.03,\n",
       "       0.06, 0.16, 0.17, 0.11, 0.06, 0.23, 0.04, 0.1 , 0.43, 0.19, 0.06,\n",
       "       0.06, 0.07, 0.05, 0.13, 0.07, 0.07, 0.19, 0.11, 0.46, 0.04, 0.2 ,\n",
       "       0.11, 0.08, 0.24, 0.19, 0.08, 0.07, 0.32, 0.08, 0.1 , 0.14, 0.03,\n",
       "       0.14, 0.14, 0.01])"
      ]
     },
     "execution_count": 9,
     "metadata": {},
     "output_type": "execute_result"
    }
   ],
   "source": [
    "analysis.metrics['NRMSE_P']"
   ]
  },
  {
   "cell_type": "markdown",
   "id": "f9350dfe",
   "metadata": {},
   "source": [
    "## Create plots for one event"
   ]
  },
  {
   "cell_type": "code",
   "execution_count": null,
   "id": "01e44977",
   "metadata": {},
   "outputs": [],
   "source": [
    "# event_idx = 14\n",
    "# event = ts.return_specific_event(event_idx)\n",
    "# rainfall_values = event['Nedbør (mm)'].values\n",
    "# skewp_value = calculate_skewp(rainfall_values)\n",
    "# print(skewp_value)\n",
    "# plt.plot(rainfall_values)"
   ]
  },
  {
   "cell_type": "markdown",
   "id": "6b5e2241",
   "metadata": {},
   "source": [
    "## Create plots of overall results"
   ]
  },
  {
   "cell_type": "code",
   "execution_count": null,
   "id": "0c2617c9",
   "metadata": {},
   "outputs": [],
   "source": [
    "# ts.plot_all_events()"
   ]
  },
  {
   "cell_type": "code",
   "execution_count": null,
   "id": "9d3b57d3",
   "metadata": {},
   "outputs": [],
   "source": [
    "# ts.plot_specific_event_w_hist(event_idx=1)"
   ]
  },
  {
   "cell_type": "code",
   "execution_count": null,
   "id": "f735e84f",
   "metadata": {},
   "outputs": [],
   "source": [
    "# ts.plot_specific_dimensionless_events([0,1,2,3,4,5,6,7,8,9])"
   ]
  },
  {
   "cell_type": "code",
   "execution_count": null,
   "id": "2a2ba220",
   "metadata": {},
   "outputs": [],
   "source": [
    "# analysis.plot_boxplots(analysis.metrics.keys())\n",
    "# analysis.plot_histograms(analysis.metrics.keys())"
   ]
  },
  {
   "cell_type": "markdown",
   "id": "fcc4a442",
   "metadata": {},
   "source": [
    "## Create Correlation matrix"
   ]
  },
  {
   "cell_type": "code",
   "execution_count": 11,
   "id": "89bb7c38",
   "metadata": {},
   "outputs": [],
   "source": [
    "## Get examples for one event\n",
    "event_idx  = 1\n",
    "event = ts.return_specific_event(event_idx)\n",
    "dimensionless_cumulative_event =  ts.return_specific_dimensionless_event(event_idx)"
   ]
  },
  {
   "cell_type": "code",
   "execution_count": 10,
   "id": "9389f3c2",
   "metadata": {},
   "outputs": [],
   "source": [
    "df = pd.DataFrame(analysis.metrics)"
   ]
  },
  {
   "cell_type": "code",
   "execution_count": null,
   "id": "91239e52",
   "metadata": {},
   "outputs": [],
   "source": [
    "# # Compute correlation matrix\n",
    "# corr_matrix = df.corr()\n",
    "\n",
    "# # Create the plot\n",
    "# plt.figure(figsize=(8, 6))  # Adjust figure size if needed\n",
    "# plt.matshow(corr_matrix, cmap='coolwarm', fignum=1)  # Use a colormap\n",
    "\n",
    "# # Add colorbar\n",
    "# plt.colorbar()\n",
    "\n",
    "# # Get column names\n",
    "# labels = df.columns\n",
    "\n",
    "# # Set x and y axis labels\n",
    "# plt.xticks(ticks=np.arange(len(labels)), labels=labels, rotation=90)  # Rotate labels for readability\n",
    "# plt.yticks(ticks=np.arange(len(labels)), labels=labels)\n",
    "\n",
    "# plt.title(\"Correlation Matrix\", pad=20)  # Add a title\n",
    "# plt.show()"
   ]
  },
  {
   "cell_type": "code",
   "execution_count": 12,
   "id": "88043ae8",
   "metadata": {},
   "outputs": [
    {
     "data": {
      "image/png": "[encoded data removed]",
      "text/plain": [
       "<Figure size 1080x720 with 2 Axes>"
      ]
     },
     "metadata": {
      "needs_background": "light"
     },
     "output_type": "display_data"
    }
   ],
   "source": [
    "# Compute correlation matrix\n",
    "corr_matrix = df.corr()\n",
    "\n",
    "# Create the plot\n",
    "plt.figure(figsize=(15, 10))\n",
    "\n",
    "# Mask the upper triangle\n",
    "mask = np.triu(np.ones_like(corr_matrix, dtype=bool))\n",
    "\n",
    "# Create heatmap\n",
    "sns.heatmap(corr_matrix, mask=mask, cmap='coolwarm', annot=False, fmt=\".2f\", \n",
    "            linewidths=0.5, cbar=True, xticklabels=True, yticklabels=True)\n",
    "\n",
    "# Set title\n",
    "plt.title(\"Correlation Matrix\", pad=20)\n",
    "\n",
    "# Improve layout\n",
    "plt.xticks(rotation=90)  # Rotate x-axis labels for readability\n",
    "plt.yticks(rotation=0)  # Ensure y-axis labels are readable\n",
    "plt.tight_layout()\n",
    "\n",
    "# Show plot\n",
    "plt.show()\n"
   ]
  }
 ],
 "metadata": {
  "kernelspec": {
   "display_name": "Python 3 (ipykernel)",
   "language": "python",
   "name": "python3"
  },
  "language_info": {
   "codemirror_mode": {
    "name": "ipython",
    "version": 3
   },
   "file_extension": ".py",
   "mimetype": "text/x-python",
   "name": "python",
   "nbconvert_exporter": "python",
   "pygments_lexer": "ipython3",
   "version": "3.7.13"
  }
 },
 "nbformat": 4,
 "nbformat_minor": 5
}
