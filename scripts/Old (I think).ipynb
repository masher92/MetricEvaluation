{
 "cells": [
  {
   "cell_type": "code",
   "execution_count": 1,
   "id": "ff30609b",
   "metadata": {
    "scrolled": false
   },
   "outputs": [],
   "source": [
    "import pandas as pd\n",
    "import numpy as np\n",
    "import matplotlib.pyplot as plt\n",
    "from tqdm import tqdm\n",
    "from scipy.interpolate import interp1d\n",
    "import seaborn as sns\n",
    "\n",
    "from ClassFunctions import precip_time_series, rainfall_analysis"
   ]
  },
  {
   "cell_type": "markdown",
   "id": "d98f1e8c",
   "metadata": {},
   "source": [
    "## Create object containing rainfall events for one gauge"
   ]
  },
  {
   "cell_type": "code",
   "execution_count": 2,
   "id": "e5092e2d",
   "metadata": {
    "scrolled": false
   },
   "outputs": [
    {
     "name": "stderr",
     "output_type": "stream",
     "text": [
      "100%|████████████████████████████████████████████████████████████████████████████████████████████████████████████████████████| 25604/25604 [00:07<00:00, 3580.25it/s]\n"
     ]
    }
   ],
   "source": [
    "# Path to data file\n",
    "raw_data_file = \"../Raw_data/Sample1.csv\"\n",
    "\n",
    "# Create an object with the rainfall time series \n",
    "ts = precip_time_series(raw_data_file)\n",
    "\n",
    "# Pad and resample the timeseries so it is at 5 minute resolution, and there are no missing times\n",
    "ts.pad_and_resample('5min')\n",
    "\n",
    "# Create on the object a set of filtered events\n",
    "ts.get_events()\n",
    "\n",
    "# Create on the object a set of dimensionless curves\n",
    "ts.create_dimensionless_events()\n",
    "\n",
    "# Create on the object a set of dimensionless curves\n",
    "ts.create_interpolated_events()"
   ]
  },
  {
   "cell_type": "code",
   "execution_count": 3,
   "id": "17e07ef9",
   "metadata": {
    "scrolled": false
   },
   "outputs": [],
   "source": [
    "## Get examples for one event\n",
    "event_idx  = 1\n",
    "event = ts.return_specific_event(event_idx)\n",
    "dimensionless_cumulative_event =  ts.return_specific_dimensionless_event(event_idx)\n",
    "interpolated_dimensionless_cumulative_event =  ts.return_specific_interpolated_event(event_idx)\n",
    "\n",
    "# Can do something similar with\n",
    "# ts.events[event_idx] # This returns the start and end timestamp\n",
    "# ts.dimensionless_events[event_idx]\n",
    "# ts.interpolated_events[event_idx]"
   ]
  },
  {
   "cell_type": "markdown",
   "id": "c6bc8a0e",
   "metadata": {},
   "source": [
    "## Compute metrics"
   ]
  },
  {
   "cell_type": "code",
   "execution_count": null,
   "id": "725427df",
   "metadata": {
    "scrolled": false
   },
   "outputs": [],
   "source": [
    "analysis = rainfall_analysis(ts)\n",
    "analysis.get_metrics()"
   ]
  },
  {
   "cell_type": "markdown",
   "id": "77a7cf58",
   "metadata": {},
   "source": [
    "### See all the metrics"
   ]
  },
  {
   "cell_type": "code",
   "execution_count": null,
   "id": "e8d5eb55",
   "metadata": {
    "scrolled": false
   },
   "outputs": [],
   "source": [
    "# # Example usage\n",
    "# rainfall_data = [10, 20, 50, 20, 15]  # example rainfall amounts\n",
    "# result = nrmse_peak(rainfall_data)\n",
    "# print('Normalized RMSE:', result)\n",
    "# print('done')"
   ]
  },
  {
   "cell_type": "markdown",
   "id": "90ec83a9",
   "metadata": {},
   "source": [
    "### See all the values for one metric"
   ]
  },
  {
   "cell_type": "code",
   "execution_count": null,
   "id": "e52ede01",
   "metadata": {
    "scrolled": false
   },
   "outputs": [],
   "source": [
    "analysis.metrics['min_intensity']"
   ]
  },
  {
   "cell_type": "code",
   "execution_count": null,
   "id": "67ad2c10",
   "metadata": {
    "scrolled": false
   },
   "outputs": [],
   "source": [
    "# for i in range(0,10):\n",
    "#     event = ts.return_specific_event(i)\n",
    "#     rainfall = ts.return_specific_interpolated_event(i)\n",
    "#     numerator = np.sum(rainfall**2)  # sum of the squared precip values\n",
    "#     denominator = (np.sum(rainfall))**2  # square of the total precipitation over all time steps \n",
    "#     PCI = (numerator/denominator)*100  # Compute the PCI by multiplying the ratio by 100.\n",
    "#     plt.plot(create_incremental_event(rainfall))\n",
    "#     plt.title(PCI)\n",
    "#     plt.show()"
   ]
  },
  {
   "cell_type": "markdown",
   "id": "f9350dfe",
   "metadata": {},
   "source": [
    "## Create plots for one event"
   ]
  },
  {
   "cell_type": "code",
   "execution_count": null,
   "id": "de382bb2",
   "metadata": {
    "scrolled": false
   },
   "outputs": [],
   "source": [
    "event_idx = 14\n",
    "event = ts.return_specific_event(event_idx)\n",
    "rainfall1 = event['Nedbør (mm)'].values"
   ]
  },
  {
   "cell_type": "code",
   "execution_count": null,
   "id": "01e44977",
   "metadata": {
    "scrolled": false
   },
   "outputs": [],
   "source": [
    "# event_idx = 14\n",
    "# event = ts.return_specific_event(event_idx)\n",
    "# rainfall_values = event['Nedbør (mm)'].values\n",
    "# print(skewp_value)\n",
    "# plt.plot(rainfall_values)"
   ]
  },
  {
   "cell_type": "markdown",
   "id": "6b5e2241",
   "metadata": {},
   "source": [
    "## Create plots of overall results"
   ]
  },
  {
   "cell_type": "code",
   "execution_count": null,
   "id": "0c2617c9",
   "metadata": {
    "scrolled": false
   },
   "outputs": [],
   "source": [
    "# ts.plot_all_events()"
   ]
  },
  {
   "cell_type": "code",
   "execution_count": null,
   "id": "9d3b57d3",
   "metadata": {
    "scrolled": false
   },
   "outputs": [],
   "source": [
    "# ts.plot_specific_event_w_hist(event_idx=1)"
   ]
  },
  {
   "cell_type": "code",
   "execution_count": null,
   "id": "f735e84f",
   "metadata": {
    "scrolled": false
   },
   "outputs": [],
   "source": [
    "# ts.plot_specific_dimensionless_events([0,1,2,3,4,5,6,7,8,9])"
   ]
  },
  {
   "cell_type": "code",
   "execution_count": null,
   "id": "2a2ba220",
   "metadata": {
    "scrolled": false
   },
   "outputs": [],
   "source": [
    "# analysis.plot_boxplots(analysis.metrics.keys())\n",
    "# analysis.plot_histograms(analysis.metrics.keys())"
   ]
  },
  {
   "cell_type": "markdown",
   "id": "fcc4a442",
   "metadata": {},
   "source": [
    "## Create Correlation matrix"
   ]
  },
  {
   "cell_type": "code",
   "execution_count": null,
   "id": "4f132783",
   "metadata": {
    "scrolled": false
   },
   "outputs": [],
   "source": [
    "## Get examples for one event\n",
    "event_idx  = 1\n",
    "event = ts.return_specific_event(event_idx)\n",
    "dimensionless_cumulative_event =  ts.return_specific_dimensionless_event(event_idx)"
   ]
  },
  {
   "cell_type": "code",
   "execution_count": null,
   "id": "9389f3c2",
   "metadata": {
    "scrolled": false
   },
   "outputs": [],
   "source": [
    "df = pd.DataFrame(analysis.metrics)\n",
    "del df['min_intensity']"
   ]
  },
  {
   "cell_type": "code",
   "execution_count": null,
   "id": "91239e52",
   "metadata": {
    "scrolled": false
   },
   "outputs": [],
   "source": [
    "# # Compute correlation matrix\n",
    "# corr_matrix = df.corr()\n",
    "\n",
    "# # Create the plot\n",
    "# plt.figure(figsize=(8, 6))  # Adjust figure size if needed\n",
    "# plt.matshow(corr_matrix, cmap='coolwarm', fignum=1)  # Use a colormap\n",
    "\n",
    "# # Add colorbar\n",
    "# plt.colorbar()\n",
    "\n",
    "# # Get column names\n",
    "# labels = df.columns\n",
    "\n",
    "# # Set x and y axis labels\n",
    "# plt.xticks(ticks=np.arange(len(labels)), labels=labels, rotation=90)  # Rotate labels for readability\n",
    "# plt.yticks(ticks=np.arange(len(labels)), labels=labels)\n",
    "\n",
    "# plt.title(\"Correlation Matrix\", pad=20)  # Add a title\n",
    "# plt.show()"
   ]
  },
  {
   "cell_type": "code",
   "execution_count": null,
   "id": "74ffd6bf",
   "metadata": {
    "scrolled": false
   },
   "outputs": [],
   "source": [
    "# Compute correlation matrix\n",
    "corr_matrix = df.corr()\n",
    "\n",
    "# Create the plot\n",
    "plt.figure(figsize=(20, 15))\n",
    "\n",
    "# Mask the upper triangle\n",
    "mask = np.triu(np.ones_like(corr_matrix, dtype=bool))\n",
    "\n",
    "# Create heatmap\n",
    "sns.heatmap(corr_matrix, mask=mask, cmap='coolwarm', annot=True, fmt=\".2f\", \n",
    "            linewidths=0.5, cbar=True, xticklabels=True, yticklabels=True)\n",
    "\n",
    "# Set title\n",
    "plt.title(\"Correlation Matrix\", pad=20)\n",
    "\n",
    "# Improve layout\n",
    "plt.xticks(rotation=90)  # Rotate x-axis labels for readability\n",
    "plt.yticks(rotation=0)  # Ensure y-axis labels are readable\n",
    "plt.tight_layout()\n",
    "\n",
    "# Show plot\n",
    "plt.show()\n"
   ]
  },
  {
   "cell_type": "code",
   "execution_count": null,
   "id": "6e06a05c",
   "metadata": {},
   "outputs": [],
   "source": [
    "from scipy.cluster.hierarchy import linkage, dendrogram, fcluster\n",
    "from scipy.spatial.distance import squareform\n",
    "\n",
    "plt.figure(figsize=(12,5))\n",
    "dissimilarity = 1 - abs(correlations)\n",
    "Z = linkage(squareform(dissimilarity), 'complete')\n",
    "\n",
    "dendrogram(Z, labels=df.columns, orientation='top', \n",
    "           leaf_rotation=90);"
   ]
  },
  {
   "cell_type": "code",
   "execution_count": null,
   "id": "cdb4e29c",
   "metadata": {},
   "outputs": [],
   "source": [
    "# Clusterize the data\n",
    "threshold = 0.8\n",
    "labels = fcluster(Z, threshold, criterion='distance')"
   ]
  },
  {
   "cell_type": "code",
   "execution_count": null,
   "id": "fbc6477b",
   "metadata": {},
   "outputs": [],
   "source": [
    "# Keep the indices to sort labels\n",
    "labels_order = np.argsort(labels)\n",
    "\n",
    "# Build a new dataframe with the sorted columns\n",
    "for idx, i in enumerate(df.columns[labels_order]):\n",
    "    if idx == 0:\n",
    "        clustered = pd.DataFrame(df[i])\n",
    "    else:\n",
    "        df_to_append = pd.DataFrame(df[i])\n",
    "        clustered = pd.concat([clustered, df_to_append], axis=1)"
   ]
  },
  {
   "cell_type": "code",
   "execution_count": null,
   "id": "c118381c",
   "metadata": {},
   "outputs": [],
   "source": [
    "# Compute correlation matrix\n",
    "corr_matrix = correlations\n",
    "\n",
    "# Create the plot\n",
    "plt.figure(figsize=(20, 15))\n",
    "\n",
    "# Mask the upper triangle\n",
    "mask = np.triu(np.ones_like(corr_matrix, dtype=bool))\n",
    "\n",
    "# Create heatmap\n",
    "sns.heatmap(corr_matrix, mask=mask, cmap='coolwarm', annot=True, fmt=\".2f\", \n",
    "            linewidths=0.5, cbar=True, xticklabels=True, yticklabels=True)\n",
    "\n",
    "# Improve layout\n",
    "plt.xticks(rotation=90)  # Rotate x-axis labels for readability\n",
    "plt.yticks(rotation=0)  # Ensure y-axis labels are readable\n",
    "plt.tight_layout()"
   ]
  },
  {
   "cell_type": "code",
   "execution_count": null,
   "id": "bb5ffa0d",
   "metadata": {},
   "outputs": [],
   "source": [
    "# events['Symmetric']  = np.array([1,2,3,4,5,5,4,3,2,1])\n",
    "# events['Asymmetric (sudden rise)']  = np.array([1,2,3,4,9,9,4,3,2,1])\n",
    "\n",
    "events['Symmetric']  = np.array([1,7,7,4,5,5,4,3,2,1])\n",
    "events['Asymmetric (sudden rise)']  = np.array([1,2,3,4,5,5,4,7,7,1])\n",
    "\n",
    "# import numpy as np\n",
    "# from scipy import stats\n",
    "# import matplotlib.pyplot as plt\n",
    "\n",
    "# def calculate_event_asymmetry(event_data):\n",
    "#     \"\"\"Calculate asymmetry for a single rainfall event\"\"\"\n",
    "#     n = len(event_data)\n",
    "#     if n < 3:  # Need at least 3 points for meaningful asymmetry\n",
    "#         return np.nan\n",
    "        \n",
    "#     # Calculate empirical CDF (rank transform)\n",
    "#     ranks = stats.rankdata(event_data)\n",
    "#     U = (ranks - 0.5) / n\n",
    "    \n",
    "#     # Use lag-1 (consecutive 5-min intervals)\n",
    "#     diff = U[:-2] - U[2:]\n",
    "    \n",
    "#     # Calculate A(k)\n",
    "#     numerator = np.mean(diff**3)\n",
    "#     denominator = np.mean(diff**2)**(3/2)\n",
    "    \n",
    "#     if denominator != 0:\n",
    "#         return numerator/denominator\n",
    "#     else:\n",
    "#         return np.nan\n",
    "\n",
    "# # Plot events and calculate their asymmetry\n",
    "# fig, axes = plt.subplots(len(events), 1, figsize=(12, 8))\n",
    "# fig.suptitle('Example Rainfall Events and Their Asymmetry Values', fontsize=12)\n",
    "\n",
    "# for i, (name, event) in enumerate(events.items()):\n",
    "#     asym = calculate_event_asymmetry(event)\n",
    "    \n",
    "#     # Plot event\n",
    "#     axes[i].plot(event, 'b-')\n",
    "#     axes[i].set_title(f'{name} - Asymmetry: {asym:.3f}')\n",
    "#     axes[i].set_ylabel('Rainfall')\n",
    "#     axes[i].grid(True)\n",
    "\n",
    "# plt.tight_layout()\n",
    "# plt.show()\n",
    "\n",
    "# # Print interpretation guide\n",
    "# print(\"\\\n",
    "# Interpretation Guide:\")\n",
    "# print(\"- Values close to 0 indicate symmetric rainfall patterns\")\n",
    "# print(\"- Positive values indicate sudden increases followed by gradual decreases\")\n",
    "# print(\"- Negative values indicate gradual increases followed by sudden decreases\")\n",
    "# print(\"- Typical range is between -1 and 1, though can exceed these bounds\")"
   ]
  },
  {
   "cell_type": "code",
   "execution_count": null,
   "id": "b1770359",
   "metadata": {},
   "outputs": [],
   "source": [
    "rainfall1 = ts.return_specific_interpolated_event(11)#['Nedbør (mm)'].values\n",
    "rainfall1 = create_incremental_event(rainfall1)\n",
    "\n",
    "# Create an array for time in minutes.   \n",
    "# Here t_i is defined as the starting minute of each interval.  \n",
    "time_minutes = np.arange(len(rainfall1)) * 5  \n",
    "  \n",
    "# If you prefer midpoint times, you could define:  \n",
    "# time_minutes = (np.arange(len(rainfall1)) + 0.5) * 5  \n",
    "  \n",
    "# Calculate the TCI:  \n",
    "TCI = np.sum(time_minutes * rainfall1) / np.sum(rainfall1)  \n",
    "print(\"TCI (in minutes):\", TCI)  "
   ]
  },
  {
   "cell_type": "code",
   "execution_count": null,
   "id": "7d58738e",
   "metadata": {},
   "outputs": [],
   "source": [
    "def create_incremental_event(cumulative_rainfall):\n",
    "    if cumulative_rainfall is None :\n",
    "        return None\n",
    "    raw_rainfall = np.diff(cumulative_rainfall, prepend=0)\n",
    "    return raw_rainfall[1:]\n",
    "\n",
    "\n",
    "# rainfall1 = ts.return_specific_interpolated_event(11)#['Nedbør (mm)'].values\n",
    "# rainfall1 = create_incremental_event(rainfall1)\n",
    "# def find_peaks(rainfall):\n",
    "#     peaks = []\n",
    "    \n",
    "#     # Iterate over the rainfall values (excluding the first and last element)\n",
    "#     for i in range(1, len(rainfall) - 1):\n",
    "#         if rainfall[i] > rainfall[i - 1] and rainfall[i] > rainfall[i + 1]:\n",
    "#             peaks.append(i)  # Store the index of the peak\n",
    "    \n",
    "#     return peaks\n",
    "\n",
    "\n",
    "# # Find the peak indices\n",
    "# peak_indices = find_peaks(rainfall1)\n",
    "\n",
    "# # Plot the rainfall values\n",
    "# plt.plot(rainfall1, label='Rainfall', marker='o', linestyle='-', color='b')\n",
    "\n",
    "# # Annotate the peaks\n",
    "# for i in peak_indices:\n",
    "#     plt.annotate(f'{rainfall1[i]}', \n",
    "#                  (i, rainfall1[i]), \n",
    "#                  textcoords=\"offset points\", \n",
    "#                  xytext=(0, 10), \n",
    "#                  ha='center', \n",
    "#                  color='red', fontsize=10)\n",
    "\n",
    "# # Add labels and title\n",
    "# plt.title(\"Rainfall with Peak Labels\")\n",
    "# plt.xlabel(\"Time Interval (30-minute steps)\")\n",
    "# plt.ylabel(\"Rainfall (mm)\")\n",
    "# plt.legend()\n",
    "\n",
    "# # Show the plot\n",
    "# plt.show()\n"
   ]
  }
 ],
 "metadata": {
  "kernelspec": {
   "display_name": "Python 3 (ipykernel)",
   "language": "python",
   "name": "python3"
  },
  "language_info": {
   "codemirror_mode": {
    "name": "ipython",
    "version": 3
   },
   "file_extension": ".py",
   "mimetype": "text/x-python",
   "name": "python",
   "nbconvert_exporter": "python",
   "pygments_lexer": "ipython3",
   "version": "3.7.13"
  }
 },
 "nbformat": 4,
 "nbformat_minor": 5
}
