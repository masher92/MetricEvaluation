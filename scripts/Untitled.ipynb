{
 "cells": [
  {
   "cell_type": "code",
   "execution_count": 1,
   "id": "ff30609b",
   "metadata": {},
   "outputs": [],
   "source": [
    "import pandas as pd\n",
    "import numpy as np\n",
    "import matplotlib.pyplot as plt\n",
    "from tqdm import tqdm\n",
    "from scipy.interpolate import interp1d\n",
    "\n",
    "from ClassFunctions import precip_time_series, rainfall_analysis"
   ]
  },
  {
   "cell_type": "markdown",
   "id": "d98f1e8c",
   "metadata": {},
   "source": [
    "## Create object containing rainfall events for one gauge"
   ]
  },
  {
   "cell_type": "code",
   "execution_count": null,
   "id": "e5092e2d",
   "metadata": {},
   "outputs": [],
   "source": [
    "# Path to data file\n",
    "raw_data_file = \"../Raw_data/Sample1.csv\"\n",
    "\n",
    "# Create an object with the rainfall time series \n",
    "ts = precip_time_series(raw_data_file)\n",
    "\n",
    "# Pad and resample the timeseries so it is at 5 minute resolution, and there are no missing times\n",
    "ts.pad_and_resample('5min')\n",
    "\n",
    "# Create on the object a set of filtered events\n",
    "ts.get_events()\n",
    "\n",
    "# Create on the object a set of dimensionless curves\n",
    "ts.create_dimensionless_events()\n",
    "\n",
    "# Create on the object a set of dimensionless curves\n",
    "ts.create_interpolated_events()"
   ]
  },
  {
   "cell_type": "code",
   "execution_count": null,
   "id": "17e07ef9",
   "metadata": {},
   "outputs": [],
   "source": [
    "## Get examples for one event\n",
    "event_idx  = 1\n",
    "event = ts.return_specific_event(event_idx)\n",
    "dimensionless_cumulative_event =  ts.return_specific_dimensionless_event(event_idx)\n",
    "interpolated_dimensionless_cumulative_event =  ts.return_specific_interpolated_event(event_idx)\n",
    "\n",
    "# Can do something similar with\n",
    "# ts.events[event_idx] # This returns the start and end timestamp\n",
    "# ts.dimensionless_events[event_idx]\n",
    "# ts.interpolated_events[event_idx]"
   ]
  },
  {
   "cell_type": "markdown",
   "id": "c6bc8a0e",
   "metadata": {},
   "source": [
    "## Compute metrics"
   ]
  },
  {
   "cell_type": "code",
   "execution_count": null,
   "id": "9a493e0c",
   "metadata": {},
   "outputs": [],
   "source": [
    "analysis = rainfall_analysis(ts)\n",
    "analysis.get_metrics()"
   ]
  },
  {
   "cell_type": "markdown",
   "id": "77a7cf58",
   "metadata": {},
   "source": [
    "### See all the metrics"
   ]
  },
  {
   "cell_type": "code",
   "execution_count": null,
   "id": "1eb39847",
   "metadata": {},
   "outputs": [],
   "source": [
    "analysis.metrics['intermittency']"
   ]
  },
  {
   "cell_type": "markdown",
   "id": "90ec83a9",
   "metadata": {},
   "source": [
    "### See all the values for one metric"
   ]
  },
  {
   "cell_type": "markdown",
   "id": "f9350dfe",
   "metadata": {},
   "source": [
    "## Create plots for one event"
   ]
  },
  {
   "cell_type": "code",
   "execution_count": 7,
   "id": "01e44977",
   "metadata": {},
   "outputs": [],
   "source": [
    "event_idx = 7\n",
    "event = ts.return_specific_event(event_idx)"
   ]
  },
  {
   "cell_type": "code",
   "execution_count": 8,
   "id": "c7522230",
   "metadata": {},
   "outputs": [
    {
     "data": {
      "image/png": "[encoded data removed]",
      "text/plain": [
       "<Figure size 432x288 with 1 Axes>"
      ]
     },
     "metadata": {
      "needs_background": "light"
     },
     "output_type": "display_data"
    }
   ],
   "source": [
    "ts.plot_specific_dimensionless_event(7)"
   ]
  },
  {
   "cell_type": "markdown",
   "id": "6b5e2241",
   "metadata": {},
   "source": [
    "## Create plots of overall results"
   ]
  },
  {
   "cell_type": "code",
   "execution_count": 14,
   "id": "0c2617c9",
   "metadata": {},
   "outputs": [],
   "source": [
    "# ts.plot_all_events()"
   ]
  },
  {
   "cell_type": "code",
   "execution_count": 10,
   "id": "9d3b57d3",
   "metadata": {},
   "outputs": [],
   "source": [
    "# ts.plot_specific_event_w_hist(event_idx=1)"
   ]
  },
  {
   "cell_type": "code",
   "execution_count": 11,
   "id": "f735e84f",
   "metadata": {},
   "outputs": [],
   "source": [
    "# ts.plot_specific_dimensionless_events([0,1,2,3,4,5,6,7,8,9])"
   ]
  },
  {
   "cell_type": "code",
   "execution_count": 12,
   "id": "2a2ba220",
   "metadata": {},
   "outputs": [],
   "source": [
    "# analysis.plot_boxplots(analysis.metrics.keys())\n",
    "# analysis.plot_histograms(analysis.metrics.keys())"
   ]
  },
  {
   "cell_type": "markdown",
   "id": "1f70ce65",
   "metadata": {},
   "source": [
    "## Create Correlation matrix"
   ]
  },
  {
   "cell_type": "code",
   "execution_count": 42,
   "id": "ba69d291",
   "metadata": {},
   "outputs": [],
   "source": [
    "first_five_metrics = dict(list(analysis.metrics.items())[11:13])\n",
    "# first_five_metrics\n",
    "# Create a DataFrame using just those keys/values\n",
    "# df = pd.DataFrame(first_five_metrics)"
   ]
  },
  {
   "cell_type": "code",
   "execution_count": 44,
   "id": "d791fc1d",
   "metadata": {},
   "outputs": [
    {
     "data": {
      "text/plain": [
       "array([[5.000e+00],\n",
       "       [8.200e+02],\n",
       "       [3.050e+02],\n",
       "       [1.250e+03],\n",
       "       [2.305e+03],\n",
       "       [2.350e+02],\n",
       "       [5.200e+02],\n",
       "       [5.000e+00],\n",
       "       [2.550e+02],\n",
       "       [3.850e+02],\n",
       "       [1.460e+03],\n",
       "       [5.000e+00],\n",
       "       [3.700e+02],\n",
       "       [4.500e+01],\n",
       "       [1.565e+03],\n",
       "       [2.500e+01],\n",
       "       [5.000e+00],\n",
       "       [9.650e+02],\n",
       "       [1.550e+02],\n",
       "       [1.000e+01],\n",
       "       [1.650e+02],\n",
       "       [4.150e+02],\n",
       "       [4.500e+01],\n",
       "       [1.750e+02],\n",
       "       [1.550e+02],\n",
       "       [3.500e+01],\n",
       "       [7.700e+02],\n",
       "       [2.220e+03],\n",
       "       [4.450e+02],\n",
       "       [2.000e+02],\n",
       "       [3.150e+02],\n",
       "       [1.800e+02],\n",
       "       [5.000e+00],\n",
       "       [6.000e+02],\n",
       "       [5.500e+01],\n",
       "       [1.000e+01],\n",
       "       [2.000e+01],\n",
       "       [1.120e+03],\n",
       "       [2.525e+03],\n",
       "       [1.095e+03],\n",
       "       [2.050e+02],\n",
       "       [1.000e+01],\n",
       "       [3.500e+01],\n",
       "       [7.500e+01],\n",
       "       [4.650e+02],\n",
       "       [7.250e+02],\n",
       "       [7.730e+03]], dtype=float32)"
      ]
     },
     "execution_count": 44,
     "metadata": {},
     "output_type": "execute_result"
    }
   ],
   "source": [
    "# analysis.metrics.keys()\n",
    "analysis.metrics['ttp'] # rcg and ttp"
   ]
  },
  {
   "cell_type": "code",
   "execution_count": 13,
   "id": "c016fedd",
   "metadata": {},
   "outputs": [],
   "source": [
    "# max_intensity = analysis.metrics['max_intensity']\n",
    "# mean_intensity = analysis.metrics['mean_intensity']\n",
    "# I30 = analysis.metrics['intermittency']\n",
    "# std_intensity = analysis.metrics['std']\n",
    "\n",
    "analysis.metrics.keys()\n",
    "\n",
    "df = pd.DataFrame({'max_intensity': analysis.metrics['max_intensity'],\n",
    "                    'mean_intensity': analysis.metrics['mean_intensity'],\n",
    "                    'intermittency': analysis.metrics['intermittency'],                   \n",
    "                   'pmr': analysis.metrics['pmr'],\n",
    "                   'I30': analysis.metrics['I30'],\n",
    "                   'std': analysis.metrics['m1']})"
   ]
  },
  {
   "cell_type": "code",
   "execution_count": 14,
   "id": "c7c9503b",
   "metadata": {},
   "outputs": [
    {
     "data": {
      "image/png": "[encoded data removed]",
      "text/plain": [
       "<Figure size 345.6x345.6 with 1 Axes>"
      ]
     },
     "metadata": {
      "needs_background": "light"
     },
     "output_type": "display_data"
    }
   ],
   "source": [
    "plt.matshow(df.corr())\n",
    "plt.show()"
   ]
  }
 ],
 "metadata": {
  "kernelspec": {
   "display_name": "Python 3 (ipykernel)",
   "language": "python",
   "name": "python3"
  },
  "language_info": {
   "codemirror_mode": {
    "name": "ipython",
    "version": 3
   },
   "file_extension": ".py",
   "mimetype": "text/x-python",
   "name": "python",
   "nbconvert_exporter": "python",
   "pygments_lexer": "ipython3",
   "version": "3.7.13"
  }
 },
 "nbformat": 4,
 "nbformat_minor": 5
}
