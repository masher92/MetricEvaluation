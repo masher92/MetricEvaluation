{
 "cells": [
  {
   "cell_type": "code",
   "execution_count": 1,
   "id": "ff30609b",
   "metadata": {
    "scrolled": false
   },
   "outputs": [],
   "source": [
    "import pandas as pd\n",
    "import numpy as np\n",
    "import matplotlib.pyplot as plt\n",
    "from tqdm import tqdm\n",
    "from scipy.interpolate import interp1d\n",
    "import seaborn as sns\n",
    "import os\n",
    "from scipy.stats import pearsonr, spearmanr\n",
    "from sklearn.metrics import mean_absolute_error, mean_squared_error\n",
    "import pickle\n",
    "import datetime \n",
    "import warnings\n",
    "warnings.simplefilter(action='ignore', category=FutureWarning)\n",
    "\n",
    "from ClassFunctions import precip_time_series, rainfall_analysis\n",
    "from PlottingFunctions import *"
   ]
  },
  {
   "cell_type": "markdown",
   "id": "d98f1e8c",
   "metadata": {},
   "source": [
    "## Create object containing rainfall events for one gauge"
   ]
  },
  {
   "cell_type": "code",
   "execution_count": 46,
   "id": "60090001",
   "metadata": {
    "scrolled": true
   },
   "outputs": [
    {
     "name": "stdout",
     "output_type": "stream",
     "text": [
      "598120_precip_minute.csv\n",
      "Making the class\n",
      "duplicate flags length: 0\n",
      "Number of missing time steps: 0\n",
      "\n",
      "_DMC_10\n",
      "_dblnorm\n"
     ]
    }
   ],
   "source": [
    "all_events = []\n",
    "negatives=[]\n",
    "dest_dir = \"/nfs/a319/gy17m2a/MetricEvaluation/DanishRainData/\"\n",
    "files = [ f for f in os.listdir(dest_dir) if os.path.isfile(os.path.join(dest_dir,f)) ][0:1]\n",
    "for file in [\"598120_precip_minute.csv\"]:\n",
    "    print(file)\n",
    "    if pd.read_csv(f\"/nfs/a319/gy17m2a/MetricEvaluation/DanishRainData/{file}\").empty:\n",
    "        print(\"The CSV file has no data rows.\")\n",
    "    else:   \n",
    "        ts = precip_time_series(f\"/nfs/a319/gy17m2a/MetricEvaluation/DanishRainData/{file}\")\n",
    "        if len(ts.data[ts.data['precipitation (mm/hr)']<0]) >0:\n",
    "            print(\"Not including, still has negatives\")\n",
    "            negatives.append(file)\n",
    "        else:\n",
    "            ts.pad_and_resample('5min')\n",
    "\n",
    "            # check if enough values\n",
    "            dt_index = ts.data.index\n",
    "            full_range = pd.date_range(start=dt_index.min(), end=dt_index.max(), freq='5T')\n",
    "            missing = full_range.difference(dt_index)\n",
    "            print(f\"Number of missing time steps: {len(missing)}\")\n",
    "            if len(missing) > 0:\n",
    "                print(\"First few missing timestamps:\")\n",
    "                print(missing[:10])\n",
    "\n",
    "            analysis = rainfall_analysis('11h', ts)\n",
    "\n",
    "            if ts.events != None:\n",
    "                analysis.get_metrics()\n",
    "                df = pd.DataFrame(analysis.metrics)\n",
    "                df['gauge_num'] = file[:6]\n",
    "                all_events.append(df)\n",
    "                with open(f'/nfs/a319/gy17m2a/MetricEvaluation/DanishRainDataPickles/{file}.pkl', 'wb') as f:\n",
    "                    pickle.dump(ts, f, pickle.HIGHEST_PROTOCOL)\n",
    "\n",
    "                all_events_df = pd.concat(all_events)\n",
    "                all_events_df.to_csv(\"All_events_new.csv\", index=False)"
   ]
  },
  {
   "cell_type": "code",
   "execution_count": 3,
   "id": "b3449ba4",
   "metadata": {},
   "outputs": [
    {
     "name": "stdout",
     "output_type": "stream",
     "text": [
      "147\n",
      "88\n"
     ]
    }
   ],
   "source": [
    "print(len(all_events_df))\n",
    "all_events_df = all_events_df[all_events_df['total_precip']>4]\n",
    "print(len(all_events_df))"
   ]
  },
  {
   "cell_type": "code",
   "execution_count": 43,
   "id": "fcfe51d3",
   "metadata": {},
   "outputs": [],
   "source": [
    "if ts.events != None:\n",
    "    analysis.get_metrics()\n",
    "    df = pd.DataFrame(analysis.metrics)\n",
    "    df['gauge_num'] = file[:6]\n",
    "    all_events.append(df)\n",
    "    print(len(all_events))\n",
    "    with open(f'/nfs/a319/gy17m2a/MetricEvaluation/DanishRainDataPickles/{file}.pkl', 'wb') as f:\n",
    "        pickle.dump(ts, f, pickle.HIGHEST_PROTOCOL)\n",
    "\n",
    "    all_events_df = pd.concat(all_events)\n",
    "    all_events_df.to_csv(\"All_events_new.csv\", index=False)"
   ]
  },
  {
   "cell_type": "code",
   "execution_count": 31,
   "id": "2696a47a",
   "metadata": {},
   "outputs": [],
   "source": [
    "def pad_and_resample(ts, freq = f'{temp_res}min' ,pad_value = 0):\n",
    "    # Resample the data to the specified frequency and pad missing values with pad_value\n",
    "    ts.data = ts.data.resample(freq).sum().fillna(pad_value)\n",
    "    ts.data *= 60 / temp_res\n",
    "    ts.padded = True\n",
    "    return ts"
   ]
  },
  {
   "cell_type": "code",
   "execution_count": 65,
   "id": "7590a68a",
   "metadata": {},
   "outputs": [
    {
     "data": {
      "text/plain": [
       "('second_half', 135, 170)"
      ]
     },
     "execution_count": 65,
     "metadata": {},
     "output_type": "execute_result"
    }
   ],
   "source": [
    "event = ts.raw_events[2]\n",
    "find_heaviest_run_half(event.iloc[:, 0].to_numpy(), '')"
   ]
  },
  {
   "cell_type": "code",
   "execution_count": 33,
   "id": "ff0db54d",
   "metadata": {},
   "outputs": [
    {
     "name": "stdout",
     "output_type": "stream",
     "text": [
      "Making the class\n",
      "duplicate flags length: 0\n"
     ]
    },
    {
     "data": {
      "text/html": [
       "<div>\n",
       "<style scoped>\n",
       "    .dataframe tbody tr th:only-of-type {\n",
       "        vertical-align: middle;\n",
       "    }\n",
       "\n",
       "    .dataframe tbody tr th {\n",
       "        vertical-align: top;\n",
       "    }\n",
       "\n",
       "    .dataframe thead th {\n",
       "        text-align: right;\n",
       "    }\n",
       "</style>\n",
       "<table border=\"1\" class=\"dataframe\">\n",
       "  <thead>\n",
       "    <tr style=\"text-align: right;\">\n",
       "      <th></th>\n",
       "      <th>precipitation (mm/hr)</th>\n",
       "    </tr>\n",
       "  </thead>\n",
       "  <tbody>\n",
       "    <tr>\n",
       "      <th>2023-03-07 01:05:00</th>\n",
       "      <td>0.60</td>\n",
       "    </tr>\n",
       "    <tr>\n",
       "      <th>2023-03-07 01:10:00</th>\n",
       "      <td>0.72</td>\n",
       "    </tr>\n",
       "    <tr>\n",
       "      <th>2023-03-07 01:15:00</th>\n",
       "      <td>0.84</td>\n",
       "    </tr>\n",
       "    <tr>\n",
       "      <th>2023-03-07 01:20:00</th>\n",
       "      <td>1.08</td>\n",
       "    </tr>\n",
       "    <tr>\n",
       "      <th>2023-03-07 01:25:00</th>\n",
       "      <td>0.72</td>\n",
       "    </tr>\n",
       "    <tr>\n",
       "      <th>2023-03-07 01:30:00</th>\n",
       "      <td>0.96</td>\n",
       "    </tr>\n",
       "    <tr>\n",
       "      <th>2023-03-07 01:35:00</th>\n",
       "      <td>0.96</td>\n",
       "    </tr>\n",
       "    <tr>\n",
       "      <th>2023-03-07 01:40:00</th>\n",
       "      <td>0.24</td>\n",
       "    </tr>\n",
       "    <tr>\n",
       "      <th>2023-03-07 01:45:00</th>\n",
       "      <td>1.08</td>\n",
       "    </tr>\n",
       "    <tr>\n",
       "      <th>2023-03-07 01:50:00</th>\n",
       "      <td>0.72</td>\n",
       "    </tr>\n",
       "    <tr>\n",
       "      <th>2023-03-07 01:55:00</th>\n",
       "      <td>0.60</td>\n",
       "    </tr>\n",
       "    <tr>\n",
       "      <th>2023-03-07 02:00:00</th>\n",
       "      <td>0.48</td>\n",
       "    </tr>\n",
       "    <tr>\n",
       "      <th>2023-03-07 02:05:00</th>\n",
       "      <td>0.60</td>\n",
       "    </tr>\n",
       "    <tr>\n",
       "      <th>2023-03-07 02:10:00</th>\n",
       "      <td>0.60</td>\n",
       "    </tr>\n",
       "    <tr>\n",
       "      <th>2023-03-07 02:15:00</th>\n",
       "      <td>0.72</td>\n",
       "    </tr>\n",
       "    <tr>\n",
       "      <th>2023-03-07 02:20:00</th>\n",
       "      <td>0.48</td>\n",
       "    </tr>\n",
       "    <tr>\n",
       "      <th>2023-03-07 02:25:00</th>\n",
       "      <td>0.60</td>\n",
       "    </tr>\n",
       "    <tr>\n",
       "      <th>2023-03-07 02:30:00</th>\n",
       "      <td>0.48</td>\n",
       "    </tr>\n",
       "    <tr>\n",
       "      <th>2023-03-07 02:35:00</th>\n",
       "      <td>0.24</td>\n",
       "    </tr>\n",
       "    <tr>\n",
       "      <th>2023-03-07 02:40:00</th>\n",
       "      <td>0.84</td>\n",
       "    </tr>\n",
       "  </tbody>\n",
       "</table>\n",
       "</div>"
      ],
      "text/plain": [
       "                     precipitation (mm/hr)\n",
       "2023-03-07 01:05:00                   0.60\n",
       "2023-03-07 01:10:00                   0.72\n",
       "2023-03-07 01:15:00                   0.84\n",
       "2023-03-07 01:20:00                   1.08\n",
       "2023-03-07 01:25:00                   0.72\n",
       "2023-03-07 01:30:00                   0.96\n",
       "2023-03-07 01:35:00                   0.96\n",
       "2023-03-07 01:40:00                   0.24\n",
       "2023-03-07 01:45:00                   1.08\n",
       "2023-03-07 01:50:00                   0.72\n",
       "2023-03-07 01:55:00                   0.60\n",
       "2023-03-07 02:00:00                   0.48\n",
       "2023-03-07 02:05:00                   0.60\n",
       "2023-03-07 02:10:00                   0.60\n",
       "2023-03-07 02:15:00                   0.72\n",
       "2023-03-07 02:20:00                   0.48\n",
       "2023-03-07 02:25:00                   0.60\n",
       "2023-03-07 02:30:00                   0.48\n",
       "2023-03-07 02:35:00                   0.24\n",
       "2023-03-07 02:40:00                   0.84"
      ]
     },
     "execution_count": 33,
     "metadata": {},
     "output_type": "execute_result"
    }
   ],
   "source": [
    "ts = precip_time_series(f\"/nfs/a319/gy17m2a/MetricEvaluation/DanishRainData/{file}\")\n",
    "pad_and_resample(ts, '5min')\n",
    "ts.data[:20]\n",
    "# ts.data are values in mm/min they are 0.05, 0, 0, 0, 0.10. I want to "
   ]
  },
  {
   "cell_type": "code",
   "execution_count": 5,
   "id": "0c64e505",
   "metadata": {},
   "outputs": [],
   "source": [
    "# print(len(all_events_df))\n",
    "# all_events_df = all_events_df[all_events_df['total_precip']>4]\n",
    "# print(len(all_events_df))"
   ]
  },
  {
   "cell_type": "code",
   "execution_count": 6,
   "id": "7a658b9d",
   "metadata": {},
   "outputs": [],
   "source": [
    "# del all_events_df['min_intensity']\n",
    "# del all_events_df['BSC']\n",
    "# del all_events_df['BSC_Index']"
   ]
  },
  {
   "cell_type": "code",
   "execution_count": 7,
   "id": "4d46c891",
   "metadata": {},
   "outputs": [],
   "source": [
    "# all_events_df.to_csv(\"three_gauge_events.csv\", index=False)\n",
    "# all_events_df = pd.read_csv(\"three_gauge_events.csv\")\n",
    "# all_events_df.copy=all_events_df.copy()"
   ]
  },
  {
   "cell_type": "code",
   "execution_count": 8,
   "id": "8c8f1a7c",
   "metadata": {},
   "outputs": [],
   "source": [
    "# del all_events_df['BSC']\n",
    "# del all_events_df['BSC_DMC']\n",
    "# del all_events_df['mean_intensity_DMC']\n",
    "# del all_events_df['min_intensity_DMC']\n",
    "# all_events_df.rename(columns={\"third_class_max_percent_DMCs\": \"third_class_max_percent_DMC\"}, inplace=True)"
   ]
  },
  {
   "cell_type": "markdown",
   "id": "fcc4a442",
   "metadata": {},
   "source": [
    "## Create Correlation matrix"
   ]
  },
  {
   "cell_type": "code",
   "execution_count": 9,
   "id": "c3d7b455",
   "metadata": {},
   "outputs": [],
   "source": [
    "# comparison_df = compare_metrics_from_df(all_events_df)"
   ]
  },
  {
   "cell_type": "code",
   "execution_count": 10,
   "id": "ea6a620e",
   "metadata": {},
   "outputs": [
    {
     "ename": "TypeError",
     "evalue": "compare_metrics_from_df() missing 2 required positional arguments: 'suffix1' and 'suffix2'",
     "output_type": "error",
     "traceback": [
      "\u001b[0;31m---------------------------------------------------------------------------\u001b[0m",
      "\u001b[0;31mTypeError\u001b[0m                                 Traceback (most recent call last)",
      "\u001b[0;32m/tmp/ipykernel_20169/2380518245.py\u001b[0m in \u001b[0;36m<module>\u001b[0;34m\u001b[0m\n\u001b[1;32m      1\u001b[0m \u001b[0mfiltered_events_df\u001b[0m \u001b[0;34m=\u001b[0m \u001b[0mall_events_df\u001b[0m\u001b[0;34m[\u001b[0m\u001b[0mall_events_df\u001b[0m\u001b[0;34m[\u001b[0m\u001b[0;34m'duration'\u001b[0m\u001b[0;34m]\u001b[0m \u001b[0;34m%\u001b[0m \u001b[0;36m20\u001b[0m \u001b[0;34m==\u001b[0m \u001b[0;36m0\u001b[0m\u001b[0;34m]\u001b[0m\u001b[0;34m\u001b[0m\u001b[0;34m\u001b[0m\u001b[0m\n\u001b[0;32m----> 2\u001b[0;31m \u001b[0mcomparison_df\u001b[0m \u001b[0;34m=\u001b[0m \u001b[0mcompare_metrics_from_df\u001b[0m\u001b[0;34m(\u001b[0m\u001b[0mfiltered_events_df\u001b[0m\u001b[0;34m)\u001b[0m\u001b[0;34m\u001b[0m\u001b[0;34m\u001b[0m\u001b[0m\n\u001b[0m",
      "\u001b[0;31mTypeError\u001b[0m: compare_metrics_from_df() missing 2 required positional arguments: 'suffix1' and 'suffix2'"
     ]
    }
   ],
   "source": [
    "filtered_events_df = all_events_df[all_events_df['duration'] % 20 == 0]\n",
    "comparison_df = compare_metrics_from_df(filtered_events_df)"
   ]
  },
  {
   "cell_type": "code",
   "execution_count": null,
   "id": "d3f652e4",
   "metadata": {},
   "outputs": [],
   "source": [
    "# fig, ax = plt.subplots(figsize=(10, 8))\n",
    "# metric = comparison_df['metric'][2]\n",
    "\n",
    "# x = all_events_df[metric]\n",
    "# y = all_events_df[f'{metric}_DMC']\n",
    "\n",
    "# # Remove NaNs\n",
    "# mask = ~x.isna() & ~y.isna()\n",
    "# x = x[mask]\n",
    "# y = y[mask]\n",
    "\n",
    "# # Density plot\n",
    "# sns.histplot(x=x, y=y, bins=5, pmax=0.9, ax=ax, cmap=\"viridis\", cbar=False)\n",
    "\n",
    "# ax.set_title(metric)\n",
    "# ax.set_xlabel('Raw')\n",
    "# ax.set_ylabel('DMC')"
   ]
  },
  {
   "cell_type": "code",
   "execution_count": 11,
   "id": "4f0f8f23",
   "metadata": {},
   "outputs": [
    {
     "ename": "NameError",
     "evalue": "name 'comparison_df' is not defined",
     "output_type": "error",
     "traceback": [
      "\u001b[0;31m---------------------------------------------------------------------------\u001b[0m",
      "\u001b[0;31mNameError\u001b[0m                                 Traceback (most recent call last)",
      "\u001b[0;32m/tmp/ipykernel_20169/1818566852.py\u001b[0m in \u001b[0;36m<module>\u001b[0;34m\u001b[0m\n\u001b[1;32m      2\u001b[0m \u001b[0;34m\u001b[0m\u001b[0m\n\u001b[1;32m      3\u001b[0m \u001b[0;32mfor\u001b[0m \u001b[0max_num\u001b[0m\u001b[0;34m,\u001b[0m \u001b[0max\u001b[0m \u001b[0;32min\u001b[0m \u001b[0menumerate\u001b[0m\u001b[0;34m(\u001b[0m\u001b[0maxs\u001b[0m\u001b[0;34m.\u001b[0m\u001b[0mflatten\u001b[0m\u001b[0;34m(\u001b[0m\u001b[0;34m)\u001b[0m\u001b[0;34m)\u001b[0m\u001b[0;34m:\u001b[0m\u001b[0;34m\u001b[0m\u001b[0;34m\u001b[0m\u001b[0m\n\u001b[0;32m----> 4\u001b[0;31m     \u001b[0;32mif\u001b[0m \u001b[0max_num\u001b[0m \u001b[0;34m<\u001b[0m \u001b[0mlen\u001b[0m\u001b[0;34m(\u001b[0m\u001b[0mcomparison_df\u001b[0m\u001b[0;34m[\u001b[0m\u001b[0;34m'metric'\u001b[0m\u001b[0;34m]\u001b[0m\u001b[0;34m)\u001b[0m\u001b[0;34m:\u001b[0m\u001b[0;34m\u001b[0m\u001b[0;34m\u001b[0m\u001b[0m\n\u001b[0m\u001b[1;32m      5\u001b[0m         \u001b[0mmetric\u001b[0m \u001b[0;34m=\u001b[0m \u001b[0mcomparison_df\u001b[0m\u001b[0;34m[\u001b[0m\u001b[0;34m'metric'\u001b[0m\u001b[0;34m]\u001b[0m\u001b[0;34m[\u001b[0m\u001b[0max_num\u001b[0m\u001b[0;34m]\u001b[0m\u001b[0;34m\u001b[0m\u001b[0;34m\u001b[0m\u001b[0m\n\u001b[1;32m      6\u001b[0m \u001b[0;34m\u001b[0m\u001b[0m\n",
      "\u001b[0;31mNameError\u001b[0m: name 'comparison_df' is not defined"
     ]
    },
    {
     "data": {
      "image/png": "[encoded data removed]",
      "text/plain": [
       "<Figure size 1440x1080 with 48 Axes>"
      ]
     },
     "metadata": {
      "needs_background": "light"
     },
     "output_type": "display_data"
    }
   ],
   "source": [
    "fig, axs = plt.subplots(nrows=8, ncols=6, figsize=(20, 15))\n",
    "\n",
    "for ax_num, ax in enumerate(axs.flatten()):\n",
    "    if ax_num < len(comparison_df['metric']):\n",
    "        metric = comparison_df['metric'][ax_num]\n",
    "        \n",
    "        x = all_events_df[metric]\n",
    "        y = all_events_df[f'{metric}_DMC']\n",
    "        \n",
    "        # Remove NaNs\n",
    "        mask = ~x.isna() & ~y.isna()\n",
    "        x = x[mask]\n",
    "        y = y[mask]\n",
    "        \n",
    "        if metric == '4th_w_peak':\n",
    "            bins=4\n",
    "        elif metric == '5th_w_peak':\n",
    "            bins=5   \n",
    "        elif metric == 'ARR_Thirds' or metric =='3rd_w_peak' or metric == 'third_class_max_percent':\n",
    "            bins=3\n",
    "        elif metric == 'BSC_Index':\n",
    "            bins=5\n",
    "        else:\n",
    "            bins=30\n",
    "        \n",
    "        # Density plot\n",
    "        sns.histplot(x=x, y=y, bins=bins, pmax=0.9, ax=ax, cmap=\"plasma\", cbar=False)\n",
    "        \n",
    "        ax.set_title(metric)\n",
    "        ax.set_xlabel('Raw')\n",
    "        ax.set_ylabel('DMC')\n",
    "    else:\n",
    "        ax.set_axis_off()\n",
    "\n",
    "plt.tight_layout()\n",
    "fig.savefig(\"DMC_Raw_Comparison.png\", facecolor='white', edgecolor='white', dpi=300)"
   ]
  },
  {
   "cell_type": "code",
   "execution_count": null,
   "id": "e015d1af",
   "metadata": {},
   "outputs": [],
   "source": [
    "raw_cols = []\n",
    "for col in all_events_df.columns:\n",
    "    if not col.endswith('_DMC'):\n",
    "        raw_cols.append(col)\n",
    "all_events_df_raw = all_events_df[raw_cols]"
   ]
  },
  {
   "cell_type": "code",
   "execution_count": null,
   "id": "74ffd6bf",
   "metadata": {
    "scrolled": false
   },
   "outputs": [],
   "source": [
    "correlation_matrix = all_events_df_raw.corr()"
   ]
  },
  {
   "cell_type": "code",
   "execution_count": null,
   "id": "2d22e640",
   "metadata": {},
   "outputs": [],
   "source": [
    "# Create the plot\n",
    "plt.figure(figsize=(20, 15))\n",
    "\n",
    "# Mask the upper triangle\n",
    "mask = np.triu(np.ones_like(correlation_matrix, dtype=bool))\n",
    "# Draw group separators (e.g., after every 3 variables)\n",
    "group_sizes = [0, 9, 5]  # Adjust based on your actual groupings\n",
    "group_cuts = np.cumsum(group_sizes)\n",
    "\n",
    "for cut in group_cuts[:-1]:  # Don't draw line after the last group\n",
    "    plt.axhline(cut, color='black', linewidth=1)\n",
    "    plt.axvline(cut, color='black', linewidth=1)\n",
    "\n",
    "# Create heatmap\n",
    "sns.heatmap(correlation_matrix, mask=mask, cmap='coolwarm', annot=False, fmt=\".2f\", \n",
    "            linewidths=0.5, cbar=True, xticklabels=True, yticklabels=True)\n",
    "\n",
    "# Improve layout\n",
    "plt.xticks(rotation=90)  # Rotate x-axis labels for readability\n",
    "plt.yticks(rotation=0)  # Ensure y-axis labels are readable\n",
    "plt.tight_layout()"
   ]
  },
  {
   "cell_type": "markdown",
   "id": "9324bfe6",
   "metadata": {},
   "source": [
    "### Principal Components Analysis"
   ]
  },
  {
   "cell_type": "code",
   "execution_count": null,
   "id": "4d5c2fa7",
   "metadata": {},
   "outputs": [],
   "source": [
    "import numpy as np\n",
    "import matplotlib.pyplot as plt"
   ]
  },
  {
   "cell_type": "markdown",
   "id": "9438f8cc",
   "metadata": {},
   "source": [
    "### PCA 2"
   ]
  },
  {
   "cell_type": "code",
   "execution_count": 12,
   "id": "606914ca",
   "metadata": {},
   "outputs": [
    {
     "ename": "NameError",
     "evalue": "name 'correlation_matrix' is not defined",
     "output_type": "error",
     "traceback": [
      "\u001b[0;31m---------------------------------------------------------------------------\u001b[0m",
      "\u001b[0;31mNameError\u001b[0m                                 Traceback (most recent call last)",
      "\u001b[0;32m/tmp/ipykernel_20169/603013907.py\u001b[0m in \u001b[0;36m<module>\u001b[0;34m\u001b[0m\n\u001b[0;32m----> 1\u001b[0;31m \u001b[0mcorrelation_matrix\u001b[0m\u001b[0;34m.\u001b[0m\u001b[0mto_csv\u001b[0m\u001b[0;34m(\u001b[0m\u001b[0;34m\"correlation.csv\"\u001b[0m\u001b[0;34m,\u001b[0m \u001b[0mindex\u001b[0m\u001b[0;34m=\u001b[0m\u001b[0;32mFalse\u001b[0m\u001b[0;34m)\u001b[0m\u001b[0;34m\u001b[0m\u001b[0;34m\u001b[0m\u001b[0m\n\u001b[0m",
      "\u001b[0;31mNameError\u001b[0m: name 'correlation_matrix' is not defined"
     ]
    }
   ],
   "source": [
    "correlation_matrix.to_csv(\"correlation.csv\", index=False)"
   ]
  },
  {
   "cell_type": "code",
   "execution_count": null,
   "id": "2f4e2a32",
   "metadata": {},
   "outputs": [],
   "source": [
    "import pandas as pd\n",
    "from sklearn.decomposition import PCA\n",
    "import matplotlib.pyplot as plt\n",
    "\n",
    "# Load the dataset\n",
    "file_path = 'three_gauge_events.csv'\n",
    "df = all_events_df\n",
    "# Display the head of the dataframe to understand its structure\n",
    "\n",
    "# Standardizing the data before PCA\n",
    "from sklearn.preprocessing import StandardScaler\n",
    "scaler = StandardScaler()\n",
    "scaled_data = scaler.fit_transform(df)\n",
    "\n",
    "# Performing PCA\n",
    "pca = PCA()\n",
    "pca.fit(scaled_data)\n",
    "\n",
    "# Explained variance ratio\n",
    "explained_variance = pca.explained_variance_ratio_\n",
    "\n",
    "# Plotting the explained variance\n",
    "plt.figure(figsize=(10, 6))\n",
    "plt.plot(range(1, len(explained_variance) + 1), explained_variance, marker='o')\n",
    "plt.title('Explained Variance by Principal Components')\n",
    "plt.xlabel('Principal Component')\n",
    "plt.ylabel('Variance Explained')\n",
    "plt.xticks(range(1, len(explained_variance) + 1))\n",
    "plt.grid()\n",
    "plt.show()\n",
    "\n",
    "# Cumulative explained variance\n",
    "cumulative_variance = explained_variance.cumsum()"
   ]
  },
  {
   "cell_type": "code",
   "execution_count": null,
   "id": "67352689",
   "metadata": {},
   "outputs": [],
   "source": [
    "import matplotlib.pyplot as plt\n",
    "\n",
    "# Plotting the explained variance ratio\n",
    "plt.figure(figsize=(10, 6))\n",
    "plt.bar(range(1, len(explained_variance) + 1), explained_variance, alpha=0.7, color='b', label='Explained Variance Ratio')\n",
    "plt.plot(range(1, len(explained_variance) + 1), cumulative_variance, marker='o', color='r', label='Cumulative Explained Variance')\n",
    "plt.title('PCA Explained Variance Ratio and Cumulative Explained Variance')\n",
    "plt.xlabel('Principal Components')\n",
    "plt.ylabel('Variance Explained')\n",
    "plt.xticks(range(1, len(explained_variance) + 1))\n",
    "plt.axhline(y=0.80, color='g', linestyle='--', label='80% Threshold')\n",
    "plt.axhline(y=0.90, color='orange', linestyle='--', label='90% Threshold')\n",
    "plt.legend()\n",
    "plt.grid()\n",
    "plt.show()"
   ]
  },
  {
   "cell_type": "code",
   "execution_count": null,
   "id": "46e362bd",
   "metadata": {},
   "outputs": [],
   "source": [
    "# Assuming we have the PCA components and the original feature names\n",
    "# Let's extract the features contributing to the first 6 principal components\n",
    "\n",
    "# Assuming pca.components_ contains the PCA components and original_feature_names is a list of feature names\n",
    "# For demonstration, let's create a mock PCA components array and feature names\n",
    "pca_components = pca.components_[:10]\n",
    "original_feature_names = all_events_df.columns\n",
    "\n",
    "# For now, let's create mock data for demonstration\n",
    "np.random.seed(0)\n",
    "# pca_components = np.random.rand(6, len(explained_variance))  # Mock PCA components for 6 components\n",
    "# original_feature_names = [f'Feature {i+1}' for i in range(len(explained_variance))]  # Mock feature names\n",
    "\n",
    "# Creating a DataFrame to show the contribution of each feature to the first 6 components\n",
    "feature_contributions = pd.DataFrame(pca_components, columns=original_feature_names)\n",
    "feature_contributions.index = [f'PC {i+1}' for i in range(10)]"
   ]
  },
  {
   "cell_type": "code",
   "execution_count": null,
   "id": "1ccaa0a7",
   "metadata": {},
   "outputs": [],
   "source": [
    "# Summarizing the most influential features for the first 6 principal components\n",
    "# Finding the top contributing features for each principal component\n",
    "num_top_features = 20  # Number of top features to display\n",
    "summary = {}\n",
    "\n",
    "for i in range(6):  # For each principal component\n",
    "    top_features = feature_contributions.iloc[i].nlargest(num_top_features)\n",
    "    summary[f'PC {i+1}'] = top_features.index.tolist()\n",
    "\n",
    "summary_df = pd.DataFrame(summary)\n",
    "\n",
    "# Displaying the summary of top features for each principal component\n",
    "summary_df"
   ]
  },
  {
   "cell_type": "code",
   "execution_count": null,
   "id": "aa81d907",
   "metadata": {},
   "outputs": [],
   "source": [
    "from sklearn.preprocessing import StandardScaler\n",
    "from sklearn.decomposition import PCA\n",
    "import pandas as pd\n",
    "import matplotlib.pyplot as plt\n",
    "import seaborn as sns\n",
    "\n",
    "# Drop any non-numeric or unwanted columns (e.g., identifiers)\n",
    "X = all_events_df.select_dtypes(include=[float, int])\n",
    "\n",
    "# Standardize\n",
    "scaler = StandardScaler()\n",
    "X_scaled = scaler.fit_transform(X)\n",
    "\n",
    "# PCA\n",
    "pca = PCA(n_components=min(X.shape[1], 10))  # adjust number of components as needed\n",
    "X_pca = pca.fit_transform(X_scaled)\n",
    "\n",
    "# Create DataFrame of PCA results\n",
    "pca_df = pd.DataFrame(X_pca, columns=[f\"PC{i+1}\" for i in range(X_pca.shape[1])])\n",
    "pca_df.index = all_events_df.index\n",
    "\n",
    "# Variance explained\n",
    "explained_var = pca.explained_variance_ratio_\n",
    "\n",
    "# Scree plot\n",
    "plt.figure(figsize=(8, 4))\n",
    "sns.barplot(x=[f\"PC{i+1}\" for i in range(len(explained_var))], y=explained_var)\n",
    "plt.title(\"Explained Variance by Principal Component\")\n",
    "plt.ylabel(\"Proportion of Variance\")\n",
    "plt.xlabel(\"Principal Component\")\n",
    "plt.show()\n",
    "\n",
    "# Optional: biplot or loading plot\n",
    "loadings = pd.DataFrame(pca.components_.T, index=X.columns, columns=pca_df.columns)\n",
    "\n",
    "# Plot first two PCs with loadings (biplot style)\n",
    "plt.figure(figsize=(8, 6))\n",
    "sns.scatterplot(x=pca_df[\"PC1\"], y=pca_df[\"PC2\"])\n",
    "for i, var in enumerate(X.columns):\n",
    "    plt.arrow(0, 0, loadings[\"PC1\"][i]*2, loadings[\"PC2\"][i]*2,\n",
    "              color='r', alpha=1)\n",
    "    plt.text(loadings[\"PC1\"][i]*2.2, loadings[\"PC2\"][i]*2.2, var, color='r')\n",
    "\n",
    "plt.title(\"PCA Biplot (PC1 vs PC2)\")\n",
    "plt.xlabel(\"PC1\")\n",
    "plt.ylabel(\"PC2\")\n",
    "plt.grid(True)\n",
    "plt.axhline(0, color='grey', linewidth=0.5)\n",
    "plt.axvline(0, color='grey', linewidth=0.5)\n",
    "plt.show()\n"
   ]
  },
  {
   "cell_type": "markdown",
   "id": "d3900327",
   "metadata": {},
   "source": [
    "### Hierarchical clustering"
   ]
  },
  {
   "cell_type": "code",
   "execution_count": null,
   "id": "bb417995",
   "metadata": {},
   "outputs": [],
   "source": [
    "clustered = cluster_from_correlation1(correlation_matrix, num_clusters=2)"
   ]
  },
  {
   "cell_type": "code",
   "execution_count": null,
   "id": "4b4af810",
   "metadata": {},
   "outputs": [],
   "source": [
    "# Import necessary libraries for clustering and silhouette score calculation\n",
    "from sklearn.cluster import KMeans\n",
    "from sklearn.metrics import silhouette_score\n",
    "import matplotlib.pyplot as plt\n",
    "import numpy as np\n",
    "\n",
    "# Prepare to calculate silhouette scores for different numbers of clusters\n",
    "range_n_clusters = range(2, 11)  # Testing from 2 to 10 clusters\n",
    "silhouette_scores = []\n",
    "\n",
    "# Calculate silhouette scores for each number of clusters\n",
    "for n_clusters in range_n_clusters:\n",
    "    kmeans = KMeans(n_clusters=n_clusters, random_state=42)\n",
    "    cluster_labels = kmeans.fit_predict(correlation_matrix)\n",
    "    silhouette_avg = silhouette_score(correlation_matrix, cluster_labels)\n",
    "    silhouette_scores.append(silhouette_avg)\n",
    "\n",
    "# Plot the silhouette scores\n",
    "plt.figure(figsize=(10, 6))\n",
    "plt.plot(range_n_clusters, silhouette_scores, marker='o')\n",
    "plt.title('Silhouette Scores for Different Numbers of Clusters')\n",
    "plt.xlabel('Number of Clusters')\n",
    "plt.ylabel('Silhouette Score')\n",
    "plt.xticks(range_n_clusters)\n",
    "plt.grid(True)\n",
    "plt.show()"
   ]
  },
  {
   "cell_type": "markdown",
   "id": "b4a94523",
   "metadata": {},
   "source": [
    "### Correlations with moments"
   ]
  },
  {
   "cell_type": "code",
   "execution_count": null,
   "id": "c118381c",
   "metadata": {},
   "outputs": [],
   "source": [
    "# Define your moment metrics of interest\n",
    "moments = ['mean_intensity', 'std', 'kurtosis', 'skewness']\n",
    "moments = [m for m in moments if m in all_events_df.columns]\n",
    "print(moments)\n",
    "corr_matrix, pval_matrix = corr_and_pvalues(all_events_df[5:10])\n",
    "\n",
    "# Set up plot\n",
    "fig, axs = plt.subplots(ncols=len(moments), figsize=(20,10))\n",
    "vmin, vmax = -1, 1\n",
    "heatmaps = []\n",
    "\n",
    "for ax, moment in zip(axs, moments):\n",
    "    # Correlations for one column\n",
    "    col_corr = corr_matrix[[moment]].sort_values(by=moment, ascending=False)\n",
    "    col_pval = pval_matrix[[moment]].loc[col_corr.index]\n",
    "\n",
    "    # Annotate with asterisks for significance\n",
    "    annotations = col_corr.copy()\n",
    "    for i in range(len(annotations)):\n",
    "        r = col_corr.iloc[i, 0]\n",
    "        p = col_pval.iloc[i, 0]\n",
    "        annotations.iloc[i, 0] = f\"{r:.2f}\" + (\"*\" if p < 0.05 else \"\")\n",
    "\n",
    "    # Draw heatmap without colorbar\n",
    "    hm = sns.heatmap(col_corr[1:], annot=annotations[1:], fmt=\"\", cmap='coolwarm',\n",
    "                     vmin=vmin, vmax=vmax, ax=ax, cbar=False, linewidths=0.5,\n",
    "                     linecolor='lightgray', annot_kws={\"size\": 10})\n",
    "\n",
    "    ax.set_title(f'Correlation with {moment}')\n",
    "    heatmaps.append(hm)\n",
    "\n",
    "# Add shared colorbar\n",
    "cbar_ax = fig.add_axes([0.92, 0.15, 0.02, 0.7])\n",
    "fig.colorbar(heatmaps[-1].collections[0], cax=cbar_ax)\n",
    "plt.tight_layout(rect=[0, 0, 0.9, 1])\n",
    "plt.show()\n"
   ]
  }
 ],
 "metadata": {
  "kernelspec": {
   "display_name": "Python 3 (ipykernel)",
   "language": "python",
   "name": "python3"
  },
  "language_info": {
   "codemirror_mode": {
    "name": "ipython",
    "version": 3
   },
   "file_extension": ".py",
   "mimetype": "text/x-python",
   "name": "python",
   "nbconvert_exporter": "python",
   "pygments_lexer": "ipython3",
   "version": "3.7.13"
  }
 },
 "nbformat": 4,
 "nbformat_minor": 5
}
