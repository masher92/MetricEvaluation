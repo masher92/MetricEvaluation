{
 "cells": [
  {
   "cell_type": "code",
   "execution_count": 38,
   "id": "615f7de7",
   "metadata": {},
   "outputs": [
    {
     "name": "stdout",
     "output_type": "stream",
     "text": [
      "   event_id            intensities\n",
      "0         1     [0, 2, 5, 3, 1, 0]\n",
      "1         2  [0, 2, 5, 4, 6, 2, 0]\n",
      "2         3  [0, 1, 0, 0, 5, 0, 0]\n"
     ]
    }
   ],
   "source": [
    "# import numpy as np\n",
    "# import pandas as pd\n",
    "# from scipy.signal import find_peaks, savgol_filter\n",
    "\n",
    "# def is_single_peak(event, smooth=True, window_length=5, polyorder=2, prominence=0.5):\n",
    "#     \"\"\"\n",
    "#     Check if the rainfall event has a single peak.\n",
    "\n",
    "#     Parameters:\n",
    "#         event (array-like): Rainfall intensities.\n",
    "#         smooth (bool): Whether to smooth the event before peak detection.\n",
    "#         window_length (int): Window size for Savitzky-Golay filter.\n",
    "#         polyorder (int): Polynomial order for Savitzky-Golay filter.\n",
    "#         prominence (float): Minimum prominence of a peak.\n",
    "\n",
    "#     Returns:\n",
    "#         bool: True if exactly one peak is found, else False.\n",
    "#     \"\"\"\n",
    "#     event = np.array(event)\n",
    "\n",
    "#     # Avoid errors on too-short events\n",
    "#     if len(event) < window_length:\n",
    "#         return False\n",
    "\n",
    "#     # Smooth the signal to suppress noise\n",
    "#     if smooth:\n",
    "#         event = savgol_filter(event, window_length=window_length, polyorder=polyorder)\n",
    "\n",
    "#     # Find peaks\n",
    "#     peaks, _ = find_peaks(event, prominence=prominence)\n",
    "\n",
    "#     return len(peaks) == 1\n",
    "\n",
    "# def filter_single_peak_events(events_df, intensity_column='intensities'):\n",
    "#     \"\"\"\n",
    "#     Filters DataFrame of rainfall events to only include single-peak events.\n",
    "\n",
    "#     Parameters:\n",
    "#         events_df (pd.DataFrame): DataFrame with a column of rainfall event intensities.\n",
    "#         intensity_column (str): Name of column containing the list/array of intensities.\n",
    "\n",
    "#     Returns:\n",
    "#         pd.DataFrame: Filtered DataFrame with only single-peak events.\n",
    "#     \"\"\"\n",
    "#     return events_df[events_df[intensity_column].apply(is_single_peak)]\n",
    "\n",
    "\n",
    "# data = {\n",
    "#     'event_id': [1, 2, 3],\n",
    "#     'intensities': [\n",
    "#         [0, 2, 5, 3, 1, 0],          # Single peak\n",
    "#         [0, 2, 5, 4, 6, 2, 0],       # Two peaks\n",
    "#         [0, 1, 0, 0, 5, 0, 0]        # Single sharp peak\n",
    "#     ]\n",
    "# }\n",
    "# df = pd.DataFrame(data)\n",
    "\n",
    "# filtered = filter_single_peak_events(df)\n",
    "# print(filtered)"
   ]
  },
  {
   "cell_type": "code",
   "execution_count": 36,
   "id": "e5b14325",
   "metadata": {},
   "outputs": [
    {
     "data": {
      "text/plain": [
       "[<matplotlib.lines.Line2D at 0x7ff6db4ba1d0>]"
      ]
     },
     "execution_count": 36,
     "metadata": {},
     "output_type": "execute_result"
    },
    {
     "data": {
      "image/png": "[encoded data removed]",
      "text/plain": [
       "<Figure size 432x288 with 1 Axes>"
      ]
     },
     "metadata": {
      "needs_background": "light"
     },
     "output_type": "display_data"
    }
   ],
   "source": [
    "plt.plot(filtered['intensities'][1])"
   ]
  },
  {
   "cell_type": "code",
   "execution_count": 30,
   "id": "e058d1f4",
   "metadata": {},
   "outputs": [
    {
     "data": {
      "text/plain": [
       "{'event_id': [1, 2, 3],\n",
       " 'intensities': [[0, 2, 5, 3, 1, 0],\n",
       "  [0, 2, 5, 4, 6, 2, 0],\n",
       "  [0, 1, 0, 0, 5, 0, 0]]}"
      ]
     },
     "execution_count": 30,
     "metadata": {},
     "output_type": "execute_result"
    }
   ],
   "source": [
    "data"
   ]
  },
  {
   "cell_type": "code",
   "execution_count": 21,
   "id": "ff30609b",
   "metadata": {
    "scrolled": false
   },
   "outputs": [],
   "source": [
    "import pandas as pd\n",
    "import numpy as np\n",
    "import matplotlib.pyplot as plt\n",
    "from tqdm import tqdm\n",
    "from scipy.interpolate import interp1d\n",
    "import seaborn as sns\n",
    "import os\n",
    "from scipy.stats import pearsonr, spearmanr\n",
    "from sklearn.metrics import mean_absolute_error, mean_squared_error\n",
    "\n",
    "from scipy.cluster.hierarchy import linkage, dendrogram, fcluster\n",
    "from scipy.spatial.distance import squareform\n",
    "\n",
    "from ClassFunctions import precip_time_series, rainfall_analysis\n",
    "from PlottingFunctions import *"
   ]
  },
  {
   "cell_type": "markdown",
   "id": "d98f1e8c",
   "metadata": {},
   "source": [
    "## Create object containing rainfall events for one gauge"
   ]
  },
  {
   "cell_type": "code",
   "execution_count": 2,
   "id": "08276ad9",
   "metadata": {},
   "outputs": [
    {
     "name": "stderr",
     "output_type": "stream",
     "text": [
      "100%|█████████████████████████████████████████████████████████████████████████████████| 219746/219746 [01:10<00:00, 3100.70it/s]\n"
     ]
    }
   ],
   "source": [
    "file = '/nfs/a319/gy17m2a/PhD/datadir/DanishRainData/532020_precip_minute.csv'\n",
    "ts = precip_time_series(file)\n",
    "ts.pad_and_resample('5min')\n",
    "analysis = rainfall_analysis('5h', ts)"
   ]
  },
  {
   "cell_type": "code",
   "execution_count": 22,
   "id": "4109b33c",
   "metadata": {},
   "outputs": [],
   "source": [
    "all_events=[]\n",
    "analysis.get_metrics()\n",
    "df = pd.DataFrame(analysis.metrics)\n",
    "all_events.append(df)\n",
    "all_events_df = pd.concat(all_events)"
   ]
  },
  {
   "cell_type": "code",
   "execution_count": 23,
   "id": "c366be8a",
   "metadata": {},
   "outputs": [],
   "source": [
    "# del all_events_df['min_intensity']\n",
    "# del all_events_df['BSC']\n",
    "# del all_events_df['BSC_Index']\n",
    "# del all_events_df['BSC_DMC']"
   ]
  },
  {
   "cell_type": "code",
   "execution_count": 27,
   "id": "43566b09",
   "metadata": {},
   "outputs": [
    {
     "data": {
      "text/plain": [
       "(5, 5)"
      ]
     },
     "execution_count": 27,
     "metadata": {},
     "output_type": "execute_result"
    }
   ],
   "source": [
    "i=3\n",
    "all_events_df['5th_w_peak_DMC'][i], all_events_df['5th_w_peak'][i], "
   ]
  },
  {
   "cell_type": "code",
   "execution_count": 64,
   "id": "3fbb7cf2",
   "metadata": {},
   "outputs": [
    {
     "data": {
      "text/plain": [
       "Text(0, 0.5, '% Dimensionless intensity')"
      ]
     },
     "execution_count": 64,
     "metadata": {},
     "output_type": "execute_result"
    },
    {
     "data": {
      "image/png": "[encoded data removed]",
      "text/plain": [
       "<Figure size 1440x216 with 4 Axes>"
      ]
     },
     "metadata": {
      "needs_background": "light"
     },
     "output_type": "display_data"
    }
   ],
   "source": [
    "i=8\n",
    "event =ts.return_specific_event(i)\n",
    "normalised_event=ts.normalised_events[i]\n",
    "dbl_normalised_event=ts.double_normalised_events[i]\n",
    "dmc = ts.DMCs[i]\n",
    "\n",
    "fig,ax=plt.subplots(ncols=4, figsize=(20,3))\n",
    "ax[0].plot(np.cumsum(event))\n",
    "ax[0].scatter(event.index, np.cumsum(event))\n",
    "ax[0].set_title(\"Raw event\")\n",
    "ax[0].set_xlabel('Minutes')\n",
    "ax[0].set_ylabel('Intensity (mm/hr)')\n",
    "\n",
    "ax[1].plot(normalised_event)\n",
    "ax[1].scatter(range(0,len(normalised_event)), normalised_event)\n",
    "ax[1].set_title(\"Normalised event\")\n",
    "ax[1].set_xlabel('Minutes')\n",
    "ax[1].set_ylabel('% Dimensionless intensity')\n",
    "\n",
    "ax[2].plot(dbl_normalised_event)\n",
    "ax[2].scatter(dbl_normalised_event.index, dbl_normalised_event)\n",
    "ax[2].set_title(\"Double normalised event\")\n",
    "ax[2].set_xlabel('% Dimensionless time')\n",
    "ax[2].set_ylabel('% Dimensionless intensity')\n",
    "\n",
    "ax[3].plot(np.cumsum(dmc))\n",
    "ax[3].scatter(dmc.index, np.cumsum(dmc))\n",
    "ax[3].set_title(\"Dimensionless mass curve\")\n",
    "ax[3].set_xlabel('% Dimensionless time')\n",
    "ax[3].set_ylabel('% Dimensionless intensity')"
   ]
  },
  {
   "cell_type": "code",
   "execution_count": 19,
   "id": "3bb2f467",
   "metadata": {},
   "outputs": [
    {
     "data": {
      "text/plain": [
       "[<matplotlib.lines.Line2D at 0x7fbe2a7026d0>]"
      ]
     },
     "execution_count": 19,
     "metadata": {},
     "output_type": "execute_result"
    },
    {
     "data": {
      "image/png": "[encoded data removed]",
      "text/plain": [
       "<Figure size 432x288 with 1 Axes>"
      ]
     },
     "metadata": {
      "needs_background": "light"
     },
     "output_type": "display_data"
    }
   ],
   "source": [
    "normalised_event =ts.normalised_events[12]\n",
    "plt.plot(normalised_event)"
   ]
  },
  {
   "cell_type": "code",
   "execution_count": 24,
   "id": "e19607db",
   "metadata": {},
   "outputs": [
    {
     "data": {
      "text/plain": [
       "[<matplotlib.lines.Line2D at 0x7fbe2a51c890>]"
      ]
     },
     "execution_count": 24,
     "metadata": {},
     "output_type": "execute_result"
    },
    {
     "data": {
      "image/png": "[encoded data removed]",
      "text/plain": [
       "<Figure size 432x288 with 1 Axes>"
      ]
     },
     "metadata": {
      "needs_background": "light"
     },
     "output_type": "display_data"
    }
   ],
   "source": [
    "plt.plot(np.cumsum(raw_event['precipitation (mm/hr)']) / np.sum(raw_event['precipitation (mm/hr)']))"
   ]
  },
  {
   "cell_type": "code",
   "execution_count": 25,
   "id": "cf63cb51",
   "metadata": {},
   "outputs": [
    {
     "name": "stdout",
     "output_type": "stream",
     "text": [
      "5 1\n"
     ]
    }
   ],
   "source": [
    "print(all_events_df['5th_w_peak'][12], all_events_df['5th_w_peak_DMC'][12])"
   ]
  },
  {
   "cell_type": "code",
   "execution_count": 5,
   "id": "a3187ce0",
   "metadata": {},
   "outputs": [
    {
     "data": {
      "text/plain": [
       "<matplotlib.collections.PathCollection at 0x7fbe2a9cc250>"
      ]
     },
     "execution_count": 5,
     "metadata": {},
     "output_type": "execute_result"
    },
    {
     "data": {
      "image/png": "[encoded data removed]",
      "text/plain": [
       "<Figure size 432x288 with 1 Axes>"
      ]
     },
     "metadata": {
      "needs_background": "light"
     },
     "output_type": "display_data"
    }
   ],
   "source": [
    "plt.scatter(all_events_df['5th_w_peak'], all_events_df['5th_w_peak_DMC'], )"
   ]
  },
  {
   "cell_type": "code",
   "execution_count": 6,
   "id": "7a658b9d",
   "metadata": {},
   "outputs": [],
   "source": [
    "# del all_events_df['min_intensity']\n",
    "# del all_events_df['BSC']"
   ]
  },
  {
   "cell_type": "code",
   "execution_count": 59,
   "id": "05d8b6a3",
   "metadata": {},
   "outputs": [
    {
     "data": {
      "text/html": [
       "<div>\n",
       "<style scoped>\n",
       "    .dataframe tbody tr th:only-of-type {\n",
       "        vertical-align: middle;\n",
       "    }\n",
       "\n",
       "    .dataframe tbody tr th {\n",
       "        vertical-align: top;\n",
       "    }\n",
       "\n",
       "    .dataframe thead th {\n",
       "        text-align: right;\n",
       "    }\n",
       "</style>\n",
       "<table border=\"1\" class=\"dataframe\">\n",
       "  <thead>\n",
       "    <tr style=\"text-align: right;\">\n",
       "      <th></th>\n",
       "      <th>ARR_Thirds</th>\n",
       "      <th>ARR_Thirds_DMC</th>\n",
       "    </tr>\n",
       "  </thead>\n",
       "  <tbody>\n",
       "    <tr>\n",
       "      <th>0</th>\n",
       "      <td>1</td>\n",
       "      <td>1</td>\n",
       "    </tr>\n",
       "    <tr>\n",
       "      <th>1</th>\n",
       "      <td>2</td>\n",
       "      <td>2</td>\n",
       "    </tr>\n",
       "    <tr>\n",
       "      <th>2</th>\n",
       "      <td>3</td>\n",
       "      <td>3</td>\n",
       "    </tr>\n",
       "    <tr>\n",
       "      <th>3</th>\n",
       "      <td>3</td>\n",
       "      <td>3</td>\n",
       "    </tr>\n",
       "    <tr>\n",
       "      <th>4</th>\n",
       "      <td>3</td>\n",
       "      <td>3</td>\n",
       "    </tr>\n",
       "    <tr>\n",
       "      <th>...</th>\n",
       "      <td>...</td>\n",
       "      <td>...</td>\n",
       "    </tr>\n",
       "    <tr>\n",
       "      <th>319</th>\n",
       "      <td>3</td>\n",
       "      <td>3</td>\n",
       "    </tr>\n",
       "    <tr>\n",
       "      <th>320</th>\n",
       "      <td>2</td>\n",
       "      <td>2</td>\n",
       "    </tr>\n",
       "    <tr>\n",
       "      <th>321</th>\n",
       "      <td>3</td>\n",
       "      <td>3</td>\n",
       "    </tr>\n",
       "    <tr>\n",
       "      <th>322</th>\n",
       "      <td>2</td>\n",
       "      <td>2</td>\n",
       "    </tr>\n",
       "    <tr>\n",
       "      <th>323</th>\n",
       "      <td>3</td>\n",
       "      <td>3</td>\n",
       "    </tr>\n",
       "  </tbody>\n",
       "</table>\n",
       "<p>324 rows × 2 columns</p>\n",
       "</div>"
      ],
      "text/plain": [
       "    ARR_Thirds  ARR_Thirds_DMC\n",
       "0            1               1\n",
       "1            2               2\n",
       "2            3               3\n",
       "3            3               3\n",
       "4            3               3\n",
       "..         ...             ...\n",
       "319          3               3\n",
       "320          2               2\n",
       "321          3               3\n",
       "322          2               2\n",
       "323          3               3\n",
       "\n",
       "[324 rows x 2 columns]"
      ]
     },
     "execution_count": 59,
     "metadata": {},
     "output_type": "execute_result"
    }
   ],
   "source": [
    "all_events_df.iloc[:,85:87]"
   ]
  },
  {
   "cell_type": "code",
   "execution_count": 5,
   "id": "7a81a251",
   "metadata": {},
   "outputs": [
    {
     "ename": "NameError",
     "evalue": "name 'all_events_df' is not defined",
     "output_type": "error",
     "traceback": [
      "\u001b[0;31m---------------------------------------------------------------------------\u001b[0m",
      "\u001b[0;31mNameError\u001b[0m                                 Traceback (most recent call last)",
      "\u001b[0;32m/tmp/ipykernel_32330/592106652.py\u001b[0m in \u001b[0;36m<module>\u001b[0;34m\u001b[0m\n\u001b[0;32m----> 1\u001b[0;31m \u001b[0mnan_rows\u001b[0m \u001b[0;34m=\u001b[0m \u001b[0mall_events_df\u001b[0m\u001b[0;34m[\u001b[0m\u001b[0mall_events_df\u001b[0m\u001b[0;34m[\u001b[0m\u001b[0;34m'ARR_Thirds'\u001b[0m\u001b[0;34m]\u001b[0m\u001b[0;34m.\u001b[0m\u001b[0misna\u001b[0m\u001b[0;34m(\u001b[0m\u001b[0;34m)\u001b[0m\u001b[0;34m]\u001b[0m\u001b[0;34m\u001b[0m\u001b[0;34m\u001b[0m\u001b[0m\n\u001b[0m",
      "\u001b[0;31mNameError\u001b[0m: name 'all_events_df' is not defined"
     ]
    }
   ],
   "source": [
    "nan_rows = all_events_df[all_events_df['ARR_Thirds'].isna()]"
   ]
  },
  {
   "cell_type": "code",
   "execution_count": 12,
   "id": "0ebd2ce0",
   "metadata": {},
   "outputs": [
    {
     "data": {
      "text/plain": [
       "11"
      ]
     },
     "execution_count": 12,
     "metadata": {},
     "output_type": "execute_result"
    }
   ],
   "source": [
    "len(normalised_event)"
   ]
  },
  {
   "cell_type": "code",
   "execution_count": 20,
   "id": "6dcf97b5",
   "metadata": {},
   "outputs": [
    {
     "data": {
      "text/plain": [
       "array([  0.        ,   7.14285714,  14.28571429,  21.42857143,\n",
       "        28.57142857,  35.71428571,  42.85714286,  50.        ,\n",
       "        57.14285714,  64.28571429,  71.42857143,  78.57142857,\n",
       "        85.71428571,  92.85714286, 100.        ])"
      ]
     },
     "execution_count": 20,
     "metadata": {},
     "output_type": "execute_result"
    }
   ],
   "source": [
    "time_percent = np.arange(len(normalised_event)) / (len(normalised_event) - 1) * 100\n",
    "time_percent"
   ]
  },
  {
   "cell_type": "code",
   "execution_count": 8,
   "id": "26a83032",
   "metadata": {},
   "outputs": [],
   "source": [
    "def calc_dX_with_interpolation(normalised_event, percentile):\n",
    "    \"\"\"\n",
    "    Calculates the time (as a % of event duration) at which a given percentile\n",
    "    of cumulative rainfall is reached, using linear interpolation.\n",
    "    \"\"\"\n",
    "\n",
    "    # Create a time axis from 0 to 100% matching the length of the rainfall curve\n",
    "    time_percent = np.linspace(0, 100, len(normalised_event))\n",
    "\n",
    "    # Identify indices below and above the target percentile\n",
    "    below = np.where(normalised_event < percentile)[0]\n",
    "    above = np.where(normalised_event >= percentile)[0]\n",
    "\n",
    "    # Check if interpolation is possible\n",
    "    if len(below) > 0 and len(above) > 0:\n",
    "        i_below = below[-1]  # Last index below percentile\n",
    "        i_above = above[0]   # First index above percentile\n",
    "\n",
    "        # Values at those indices\n",
    "        y1, y2 = normalised_event[i_below], normalised_event[i_above]\n",
    "        x1, x2 = time_percent[i_below], time_percent[i_above]\n",
    "\n",
    "        # Linear interpolation formula to find x where y = percentile\n",
    "        slope = (y2 - y1) / (x2 - x1)\n",
    "        x_at_percentile = x1 + (percentile - y1) / slope\n",
    "\n",
    "        return x_at_percentile\n",
    "\n",
    "    # Return None if no valid interpolation range is found\n",
    "    return None\n",
    "\n",
    "def calc_d50_with_interpolation(sample):\n",
    "    n=5\n",
    "    cumulative_rainfall, cumulative_rainfall_times = create_cumulative_event(sample)\n",
    "    dimensionless_cumulative_rainfall, dimensionless_times =  create_dimensionless_event(cumulative_rainfall, cumulative_rainfall_times)\n",
    "    interpolated_n_cumulative_rainfall, interpolated_n_times = interpolate_rainfall(dimensionless_cumulative_rainfall,n)\n",
    "    interpolated_n_incremental_rainfall = create_incremental_event(interpolated_n_cumulative_rainfall)\n",
    "    max_quintile_profile = find_part_with_most_rain(interpolated_n_incremental_rainfall, n)\n",
    "    \n",
    "    percentile = 0.5\n",
    "    \n",
    "    time_percentage = (np.arange(0, len(sample) + 1) / len(sample)) * 100\n",
    "    \n",
    "    # Find the indices where the cumulative rainfall crosses the percentile_value\n",
    "    indices_below = np.where(dimensionless_cumulative_rainfall < percentile)[0]\n",
    "    indices_above = np.where(dimensionless_cumulative_rainfall >= percentile)[0]\n",
    "\n",
    "    # Ensure there are indices both below and above the percentile value\n",
    "    if len(indices_below) > 0 and len(indices_above) > 0:\n",
    "        index_below = indices_below[-1]  # Last index below the percentile value\n",
    "        index_above = indices_above[0]    # First index above the percentile value\n",
    "\n",
    "        # Perform linear interpolation to find the exact intersection point\n",
    "        x_below = time_percentage[index_below]\n",
    "        y_below = dimensionless_cumulative_rainfall[index_below]\n",
    "\n",
    "        x_above = time_percentage[index_above]\n",
    "        y_above = dimensionless_cumulative_rainfall[index_above]\n",
    "\n",
    "        # Calculate the slope\n",
    "        slope = (y_above - y_below) / (x_above - x_below)\n",
    "        # Use the formula to find the exact x value where the y value equals percentile_value\n",
    "        time_for_percentile = x_below + (percentile - y_below) / slope\n",
    "\n",
    "        return time_for_percentile\n"
   ]
  },
  {
   "cell_type": "code",
   "execution_count": 77,
   "id": "92e90904",
   "metadata": {},
   "outputs": [
    {
     "name": "stdout",
     "output_type": "stream",
     "text": [
      "[]\n",
      "[ 0  1  2  3  4  5  6  7  8  9 10]\n"
     ]
    }
   ],
   "source": [
    "below = np.where(normalised_event < percentile)[0]\n",
    "print(below)\n",
    "above = np.where(normalised_event >= percentile)[0]\n",
    "print(above)"
   ]
  },
  {
   "cell_type": "code",
   "execution_count": 7,
   "id": "5138ceb6",
   "metadata": {},
   "outputs": [
    {
     "data": {
      "text/plain": [
       "array([[0.6],\n",
       "       [0. ],\n",
       "       [0. ],\n",
       "       [0. ],\n",
       "       [0. ],\n",
       "       [0. ],\n",
       "       [0. ],\n",
       "       [0. ],\n",
       "       [0. ],\n",
       "       [0.4],\n",
       "       [0.1]])"
      ]
     },
     "execution_count": 7,
     "metadata": {},
     "output_type": "execute_result"
    }
   ],
   "source": [
    "event.values"
   ]
  },
  {
   "cell_type": "code",
   "execution_count": 9,
   "id": "fcc01ebe",
   "metadata": {},
   "outputs": [
    {
     "name": "stderr",
     "output_type": "stream",
     "text": [
      "/nfs/a321/gy17m2a/anaconda_install/anaconda3/envs/ukcp18/lib/python3.7/site-packages/ipykernel_launcher.py:17: RuntimeWarning: divide by zero encountered in double_scalars\n"
     ]
    },
    {
     "data": {
      "text/plain": [
       "0.0"
      ]
     },
     "execution_count": 9,
     "metadata": {},
     "output_type": "execute_result"
    }
   ],
   "source": [
    "event=ts.raw_events[109]\n",
    "normalised_event = np.cumsum(event['precipitation (mm/hr)']) / np.sum(event['precipitation (mm/hr)'])\n",
    "percentile = 0.5  # 50% of total rainfall\n",
    "time_for_percentile = calc_dX_with_interpolation(normalised_event, percentile)\n",
    "time_for_percentile"
   ]
  },
  {
   "cell_type": "code",
   "execution_count": null,
   "id": "4c882c38",
   "metadata": {},
   "outputs": [],
   "source": [
    "([self.calc_ARR_thirds(np.cumsum(event['precipitation (mm/hr)']) / np.sum(event['precipitation (mm/hr)'])) for event in self.ts.raw_events]"
   ]
  },
  {
   "cell_type": "code",
   "execution_count": null,
   "id": "c39615b2",
   "metadata": {},
   "outputs": [],
   "source": [
    "fig, axs = plt.subplots(nrows=8, ncols=6, figsize=(20, 15))\n",
    "\n",
    "for ax_num, ax in enumerate(axs.flatten()):\n",
    "    if ax_num < len(comparison_df['metric']):\n",
    "        metric = comparison_df['metric'][ax_num]\n",
    "        \n",
    "        x = all_events_df[metric]\n",
    "        y = all_events_df[f'{metric}_DMC']\n",
    "        \n",
    "        # Remove NaNs\n",
    "        mask = ~x.isna() & ~y.isna()\n",
    "        x = x[mask]\n",
    "        y = y[mask]\n",
    "        \n",
    "        # Density plot\n",
    "        sns.histplot(x=x, y=y, bins=30, pmax=0.9, ax=ax, cmap=\"viridis\", cbar=False)\n",
    "        \n",
    "        ax.set_title(metric)\n",
    "        ax.set_xlabel('Raw')\n",
    "        ax.set_ylabel('DMC')\n",
    "    else:\n",
    "        ax.set_axis_off()\n",
    "\n",
    "plt.tight_layout()\n",
    "fig.savefig(\"DMC_Raw_Comparison.png\", facecolor='white', edgecolor='white', dpi=300)"
   ]
  }
 ],
 "metadata": {
  "kernelspec": {
   "display_name": "Python 3 (ipykernel)",
   "language": "python",
   "name": "python3"
  },
  "language_info": {
   "codemirror_mode": {
    "name": "ipython",
    "version": 3
   },
   "file_extension": ".py",
   "mimetype": "text/x-python",
   "name": "python",
   "nbconvert_exporter": "python",
   "pygments_lexer": "ipython3",
   "version": "3.7.13"
  }
 },
 "nbformat": 4,
 "nbformat_minor": 5
}
