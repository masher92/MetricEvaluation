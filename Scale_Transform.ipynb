{
 "cells": [
  {
   "cell_type": "code",
   "execution_count": 1,
   "id": "8026796e",
   "metadata": {},
   "outputs": [],
   "source": [
    "import pandas as pd\n",
    "from sklearn.preprocessing import MinMaxScaler, StandardScaler, PowerTransformer\n",
    "from scipy.stats import skew\n",
    "import numpy as np\n",
    "import re\n",
    "import os\n",
    "from datetime import timedelta"
   ]
  },
  {
   "cell_type": "code",
   "execution_count": 2,
   "id": "f3649e2f",
   "metadata": {},
   "outputs": [],
   "source": [
    "def transform_metrics(df, skew_threshold=1.0, print_please=False):\n",
    "    \"\"\"\n",
    "    Transforms metrics in a DataFrame based on skewness.\n",
    "    Applies log1p or Yeo-Johnson transformation if skewness exceeds threshold.\n",
    "\n",
    "    Parameters:\n",
    "        df (pd.DataFrame): DataFrame with each column as a separate metric (assumed at 5-minute resolution).\n",
    "        skew_threshold (float): Skewness value above which transformation is applied.\n",
    "\n",
    "    Returns:\n",
    "        pd.DataFrame: New DataFrame with original and/or transformed columns.\n",
    "    \"\"\"\n",
    "    \n",
    "    transformed_cols = []  # List to hold transformed DataFrames\n",
    "    kept_cols = []         # List of metric names to keep unchanged\n",
    "    if print_please == True:\n",
    "        print(\"Starting metric transformation...\\n\")\n",
    "\n",
    "    for col in df.columns:\n",
    "        col_data = df[col].dropna()\n",
    "        col_skew = skew(col_data)\n",
    "\n",
    "        if abs(col_skew) <= skew_threshold:\n",
    "            # Skewness within acceptable range, keep as is\n",
    "            if print_please == True:\n",
    "                print(f\"Keeping '{col}' without transformation (skewness = {col_skew:.2f})\")\n",
    "            kept_cols.append(col)\n",
    "            continue\n",
    "\n",
    "        # Choose transformation method\n",
    "        use_log = (col_data > 0).all()\n",
    "\n",
    "        if use_log:\n",
    "            transformed = np.log1p(df[col])\n",
    "            new_col = f\"{col}_log\"\n",
    "            if print_please == True:\n",
    "                print(f\"Applying log1p transform to '{col}' (skewness = {col_skew:.2f}) → '{new_col}'\")\n",
    "        else:\n",
    "            pt = PowerTransformer(method='yeo-johnson', standardize=False)\n",
    "            transformed = pd.Series(\n",
    "                pt.fit_transform(df[[col]]).flatten(),\n",
    "                index=df.index\n",
    "            )\n",
    "            new_col = f\"{col}_yj\"\n",
    "            if print_please == True:\n",
    "                print(f\"Applying Yeo-Johnson transform to '{col}' (skewness = {col_skew:.2f}) → '{new_col}'\")\n",
    "\n",
    "        transformed_cols.append(pd.DataFrame({new_col: transformed}))\n",
    "        \n",
    "    if print_please == True:\n",
    "        print(\"\\nTransformation complete.\\n\")\n",
    "\n",
    "    # Combine original and transformed columns\n",
    "    final_df = pd.concat([df[kept_cols]] + transformed_cols, axis=1)\n",
    "\n",
    "    return final_df\n",
    "\n",
    "# --- Helper function to split column name into metric and resolution --- #\n",
    "def split_metric_resolution(col_name):\n",
    "    \"\"\"\n",
    "    Splits column names like '3rd_w_Peak_5m' into ('3rd_w_Peak', '5m').\n",
    "    Assumes resolution is always the last underscore-suffix (e.g., '_5m').\n",
    "    \"\"\"\n",
    "    parts = col_name.rsplit('_', 1)  # Split only on the last underscore\n",
    "    if len(parts) == 2 and parts[1] in ['5m', '30m']:\n",
    "        return parts[0], parts[1]\n",
    "    else:\n",
    "        return col_name, None  # No valid resolution suffix found"
   ]
  },
  {
   "cell_type": "markdown",
   "id": "1fc47097",
   "metadata": {},
   "source": [
    "### Scale and transform"
   ]
  },
  {
   "cell_type": "code",
   "execution_count": 3,
   "id": "fccebecd",
   "metadata": {},
   "outputs": [],
   "source": [
    "# all_events_5mins[\"mean_intensity\"], all_events_5mins[\"mean_intensity_DMC10\"], "
   ]
  },
  {
   "cell_type": "code",
   "execution_count": 25,
   "id": "f8822bae",
   "metadata": {},
   "outputs": [],
   "source": [
    "cols_to_delete = [f'{var}_{res}'\n",
    "    for var in ['m3', 'm1', 'm2', 'm4', 'm5']\n",
    "    for res in ['5m', '10m', '30m', '60m']]\n",
    "all_events_all_res.drop(columns=cols_to_delete, inplace=True)"
   ]
  },
  {
   "cell_type": "code",
   "execution_count": 21,
   "id": "6a77af82",
   "metadata": {},
   "outputs": [],
   "source": [
    "all_events_all_res = pd.read_csv(\"Data/NotScaled_AllRes.csv\")\n",
    "all_events_5mins = all_events_all_res.filter(regex='_5m')\n",
    "all_events_5mins.columns = all_events_5mins.columns.str.replace('_5m', '', regex=True)"
   ]
  },
  {
   "cell_type": "markdown",
   "id": "75326084",
   "metadata": {},
   "source": [
    "### Transform variables"
   ]
  },
  {
   "cell_type": "code",
   "execution_count": 5,
   "id": "f138e971",
   "metadata": {},
   "outputs": [],
   "source": [
    "all_events_5mins_transformed = transform_metrics(all_events_5mins, print_please=False)"
   ]
  },
  {
   "cell_type": "code",
   "execution_count": 6,
   "id": "5f74e1ed",
   "metadata": {},
   "outputs": [
    {
     "name": "stdout",
     "output_type": "stream",
     "text": [
      "Columns with at least one NaN value:\n",
      "[]\n"
     ]
    }
   ],
   "source": [
    "columns_with_nan = all_events_5mins_transformed.columns[all_events_5mins_transformed.isnull().any()].tolist()\n",
    "print(\"Columns with at least one NaN value:\")\n",
    "print(columns_with_nan)"
   ]
  },
  {
   "cell_type": "markdown",
   "id": "10f1ce58",
   "metadata": {},
   "source": [
    "### Scale variables"
   ]
  },
  {
   "cell_type": "code",
   "execution_count": 7,
   "id": "a3a9e232",
   "metadata": {},
   "outputs": [],
   "source": [
    "metrics_to_scale = all_events_5mins_transformed.columns\n",
    "minmax_scaler = MinMaxScaler()\n",
    "transformed_scaled = minmax_scaler.fit_transform(all_events_5mins_transformed[metrics_to_scale])\n",
    "# # Convert scaled values back to DataFrame and concatenate with original non-numeric columns\n",
    "transformed_scaled = pd.DataFrame(transformed_scaled, columns=metrics_to_scale)"
   ]
  },
  {
   "cell_type": "code",
   "execution_count": 8,
   "id": "db0e8e67",
   "metadata": {},
   "outputs": [],
   "source": [
    "transformed_scaled.reset_index(inplace=True, drop=True)\n",
    "transformed_scaled.to_csv(\"Data/MinMaxScaled_5m.csv\",index=False)"
   ]
  }
 ],
 "metadata": {
  "kernelspec": {
   "display_name": "Python 3 (ipykernel)",
   "language": "python",
   "name": "python3"
  },
  "language_info": {
   "codemirror_mode": {
    "name": "ipython",
    "version": 3
   },
   "file_extension": ".py",
   "mimetype": "text/x-python",
   "name": "python",
   "nbconvert_exporter": "python",
   "pygments_lexer": "ipython3",
   "version": "3.7.13"
  }
 },
 "nbformat": 4,
 "nbformat_minor": 5
}
