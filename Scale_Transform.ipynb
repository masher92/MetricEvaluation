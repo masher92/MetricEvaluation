{
 "cells": [
  {
   "cell_type": "code",
   "execution_count": 2,
   "id": "8026796e",
   "metadata": {},
   "outputs": [],
   "source": [
    "import pandas as pd\n",
    "from sklearn.preprocessing import MinMaxScaler, StandardScaler, PowerTransformer\n",
    "from scipy.stats import skew\n",
    "import numpy as np\n",
    "import re\n",
    "import os\n",
    "from datetime import timedelta"
   ]
  },
  {
   "cell_type": "code",
   "execution_count": 3,
   "id": "f3649e2f",
   "metadata": {},
   "outputs": [],
   "source": [
    "def transform_metrics_based_on_5m(df, skew_threshold=1.0):\n",
    "    \"\"\"\n",
    "    Transforms skewed metrics based on their 5-minute resolution version.\n",
    "    Applies the same transformation to all resolutions of that metric.\n",
    "    Removes the original columns after transformation.\n",
    "\n",
    "    Naming convention:\n",
    "    - Input column format: {metric}_{resolution}\n",
    "    - Output column format: {metric}_{transform}_{resolution} (e.g., I30_log_60m)\n",
    "\n",
    "    Parameters:\n",
    "        df (pd.DataFrame): Input DataFrame with metrics at multiple resolutions.\n",
    "        skew_threshold (float): Absolute skew value above which transformation is applied.\n",
    "\n",
    "    Returns:\n",
    "        pd.DataFrame: A new DataFrame with transformed columns added and raw versions removed.\n",
    "    \"\"\"\n",
    "    transformed_cols = []  # list of DataFrames to concat\n",
    "    kept_cols = []         # original cols that are not transformed\n",
    "\n",
    "    all_cols = df.columns\n",
    "    metric_resolution_pairs = [col.rsplit('_', 1) for col in all_cols]\n",
    "    metric_to_resolutions = {}\n",
    "\n",
    "    for metric, res in metric_resolution_pairs:\n",
    "        metric_to_resolutions.setdefault(metric, []).append(res)\n",
    "\n",
    "    for metric, resolutions in metric_to_resolutions.items():\n",
    "        ref_col = f\"{metric}_5m\"\n",
    "        if ref_col not in df.columns:\n",
    "            continue\n",
    "\n",
    "        ref_skew = skew(df[ref_col].dropna())\n",
    "        if abs(ref_skew) <= skew_threshold:\n",
    "            # Keep all original columns for this metric\n",
    "            kept_cols.extend([f\"{metric}_{res}\" for res in resolutions if f\"{metric}_{res}\" in df.columns])\n",
    "            continue\n",
    "\n",
    "        # Apply transformation\n",
    "        use_log = (df[ref_col] > 0).all()\n",
    "        for res in resolutions:\n",
    "            original_col = f\"{metric}_{res}\"\n",
    "            if original_col not in df.columns:\n",
    "                continue\n",
    "\n",
    "            col_data = df[original_col].values.reshape(-1, 1)\n",
    "            if use_log:\n",
    "                transformed = np.log1p(col_data).flatten()\n",
    "                new_col = f\"{metric}_log_{res}\"\n",
    "            else:\n",
    "                pt = PowerTransformer(method='yeo-johnson', standardize=False)\n",
    "                transformed = pt.fit_transform(col_data).flatten()\n",
    "                new_col = f\"{metric}_yj_{res}\"\n",
    "\n",
    "            transformed_cols.append(pd.DataFrame({new_col: transformed}, index=df.index))\n",
    "\n",
    "    # Concatenate final DataFrame from untransformed columns and all new transformed columns\n",
    "    final_df = pd.concat([df[kept_cols]] + transformed_cols, axis=1)\n",
    "\n",
    "    return final_df\n",
    "\n",
    "\n",
    "# --- Helper function to split column name into metric and resolution --- #\n",
    "def split_metric_resolution(col_name):\n",
    "    \"\"\"\n",
    "    Splits column names like '3rd_w_Peak_5m' into ('3rd_w_Peak', '5m').\n",
    "    Assumes resolution is always the last underscore-suffix (e.g., '_5m').\n",
    "    \"\"\"\n",
    "    parts = col_name.rsplit('_', 1)  # Split only on the last underscore\n",
    "    if len(parts) == 2 and parts[1] in ['5m', '30m']:\n",
    "        return parts[0], parts[1]\n",
    "    else:\n",
    "        return col_name, None  # No valid resolution suffix found\n",
    "\n",
    "\n",
    "def select_best_transformed_version(df):\n",
    "    selected = {}\n",
    "\n",
    "    # Extract base metric + resolution (e.g., 'PCI_5m') and check for transformed versions\n",
    "    for col in df.columns:\n",
    "        match = re.match(r'(.+?)_(log|yj)?_?(\\d+m)?$', col)\n",
    "        if not match:\n",
    "            continue\n",
    "        \n",
    "        metric, transform, resolution = match.groups()\n",
    "        resolution = resolution or ''  # Some may not have resolution\n",
    "        key = f\"{metric}_{resolution}\"\n",
    "\n",
    "        # Choose best available version\n",
    "        if key not in selected:\n",
    "            selected[key] = (transform, col)\n",
    "        else:\n",
    "            prev_transform, _ = selected[key]\n",
    "            # Prefer log over yj, and transformed over raw\n",
    "            if prev_transform is None or (prev_transform == 'yj' and transform == 'log'):\n",
    "                selected[key] = (transform, col)\n",
    "\n",
    "    # Build new DataFrame with renamed columns\n",
    "    selected_cols = {}\n",
    "    for key, (transform, col) in selected.items():\n",
    "        if transform:\n",
    "            # Reformat as metric_transform_resolution\n",
    "            metric, resolution = key.rsplit('_', 1)\n",
    "            new_name = f\"{metric}_{transform}_{resolution}\"\n",
    "        else:\n",
    "            new_name = key\n",
    "        selected_cols[new_name] = df[col]\n",
    "\n",
    "    return pd.DataFrame(selected_cols)\n"
   ]
  },
  {
   "cell_type": "markdown",
   "id": "1fc47097",
   "metadata": {},
   "source": [
    "### Scale and transform"
   ]
  },
  {
   "cell_type": "code",
   "execution_count": 4,
   "id": "6a77af82",
   "metadata": {},
   "outputs": [],
   "source": [
    "all_events_all_res = pd.read_csv(\"../NotScaled_AllRes.csv\")"
   ]
  },
  {
   "cell_type": "markdown",
   "id": "75326084",
   "metadata": {},
   "source": [
    "### Transform variables"
   ]
  },
  {
   "cell_type": "code",
   "execution_count": 6,
   "id": "66ab0de4",
   "metadata": {},
   "outputs": [
    {
     "name": "stderr",
     "output_type": "stream",
     "text": [
      "/nfs/a321/gy17m2a/anaconda_install/anaconda3/envs/ukcp18/lib/python3.7/site-packages/sklearn/preprocessing/_data.py:3253: RuntimeWarning: divide by zero encountered in log\n",
      "  loglike = -n_samples / 2 * np.log(x_trans.var())\n",
      "/nfs/a321/gy17m2a/anaconda_install/anaconda3/envs/ukcp18/lib/python3.7/site-packages/sklearn/preprocessing/_data.py:3253: RuntimeWarning: divide by zero encountered in log\n",
      "  loglike = -n_samples / 2 * np.log(x_trans.var())\n"
     ]
    }
   ],
   "source": [
    "transformed_all_events_df = transform_metrics_based_on_5m(all_events_all_res)\n",
    "transformed_all_events_df2 = select_best_transformed_version(transformed_all_events_df)"
   ]
  },
  {
   "cell_type": "markdown",
   "id": "10f1ce58",
   "metadata": {},
   "source": [
    "### Scale variables"
   ]
  },
  {
   "cell_type": "code",
   "execution_count": null,
   "id": "082f79cc",
   "metadata": {},
   "outputs": [],
   "source": [
    "scaled_df = transformed_all_events_df2.copy()\n",
    "\n",
    "res_suffixes = ['_5m', '_10m', '_30m', '_60m']\n",
    "\n",
    "def get_base_metric(col):\n",
    "    for suffix in res_suffixes:\n",
    "        if col.endswith(suffix):\n",
    "            return col[:-len(suffix)]\n",
    "    return None\n",
    "\n",
    "metrics = set()\n",
    "for col in scaled_df.columns:\n",
    "    base = get_base_metric(col)\n",
    "    if base:\n",
    "        metrics.add(base)\n",
    "\n",
    "for metric in sorted(metrics):\n",
    "    # Only columns exactly equal to metric + suffix, no extra characters\n",
    "    metric_cols = [col for col in scaled_df.columns if col in [metric + suf for suf in res_suffixes]]\n",
    "#     print(f\"Metric: {metric}\")\n",
    "#     print(\"Columns:\", metric_cols)\n",
    "    # Stack values into a single array for fitting\n",
    "    all_vals = pd.concat([scaled_df[col] for col in metric_cols]).values.reshape(-1, 1)\n",
    "\n",
    "    scaler = MinMaxScaler()\n",
    "    scaler.fit(all_vals)  # Fit without column names (raw array)\n",
    "\n",
    "    # Apply transform consistently\n",
    "    for col in metric_cols:\n",
    "        scaled_df[col] = scaler.transform(scaled_df[col].values.reshape(-1, 1)).flatten()     "
   ]
  },
  {
   "cell_type": "code",
   "execution_count": null,
   "id": "a3a9e232",
   "metadata": {},
   "outputs": [],
   "source": [
    "# metrics_to_scale = transformed_all_events_df2.columns\n",
    "# minmax_scaler = MinMaxScaler()\n",
    "# transformed_scaled = minmax_scaler.fit_transform(transformed_all_events_df2[metrics_to_scale])\n",
    "# # # Convert scaled values back to DataFrame and concatenate with original non-numeric columns\n",
    "# transformed_scaled = pd.DataFrame(transformed_scaled, columns=metrics_to_scale)"
   ]
  },
  {
   "cell_type": "code",
   "execution_count": null,
   "id": "9c6b140f",
   "metadata": {},
   "outputs": [],
   "source": [
    "# SENSE CHECK\n",
    "metric = \"m3_wi\"\n",
    "for res in res_suffixes:\n",
    "    col = f\"{metric}{res}\"\n",
    "    print(f\"{col}: original max = {transformed_all_events_df2[col].max()}, scaled max = {scaled_df[col].max()}\")"
   ]
  },
  {
   "cell_type": "code",
   "execution_count": null,
   "id": "db0e8e67",
   "metadata": {},
   "outputs": [],
   "source": [
    "# transformed_scaled.reset_index(inplace=True, drop=True)\n",
    "scaled_df.to_csv(\"../MinMaxScaledCollectively_AllRes.csv\",index=False)"
   ]
  }
 ],
 "metadata": {
  "kernelspec": {
   "display_name": "Python 3 (ipykernel)",
   "language": "python",
   "name": "python3"
  },
  "language_info": {
   "codemirror_mode": {
    "name": "ipython",
    "version": 3
   },
   "file_extension": ".py",
   "mimetype": "text/x-python",
   "name": "python",
   "nbconvert_exporter": "python",
   "pygments_lexer": "ipython3",
   "version": "3.7.13"
  }
 },
 "nbformat": 4,
 "nbformat_minor": 5
}
